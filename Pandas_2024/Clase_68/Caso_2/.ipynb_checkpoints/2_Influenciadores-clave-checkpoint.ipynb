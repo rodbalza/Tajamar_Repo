{
 "cells": [
  {
   "cell_type": "markdown",
   "id": "15e48603",
   "metadata": {},
   "source": [
    "# Análisis Descriptivo de la Gestión del negocio: Influenciadores clave"
   ]
  },
  {
   "cell_type": "markdown",
   "id": "efa149e6",
   "metadata": {},
   "source": [
    "Un análisis descriptivo es un tipo de análisis que se utiliza para explorar y describir los datos, identificar patrones y tendencias y para generar estadísticas y visualizaciones que permitan entender los datos de manera más clara. En este caso, se utilizan las técnicas de correlación y pruebas estadísticas para identificar las variables que influyen en las ventas de la empresa ***AdventureWorks***.\n",
    "\n",
    "Un análisis descriptivo no pretende hacer predicciones o recomendaciones, sino simplemente brindar una descripción más detallada de los datos y su relación entre ellos."
   ]
  },
  {
   "cell_type": "markdown",
   "id": "edcc13a5",
   "metadata": {},
   "source": [
    "## Carga de las librerías de python necesarias"
   ]
  },
  {
   "cell_type": "code",
   "execution_count": 20,
   "id": "428fa9f2",
   "metadata": {},
   "outputs": [],
   "source": [
    "import pyodbc\n",
    "import pandas as pd\n",
    "import numpy as np\n",
    "import matplotlib.pyplot as plt\n",
    "import seaborn as sns\n",
    "from scipy import stats\n",
    "import statsmodels.api as sm\n",
    "\n",
    "plt.rcParams['figure.figsize'] = [12, 8]"
   ]
  },
  {
   "cell_type": "markdown",
   "id": "70c4aaac",
   "metadata": {},
   "source": [
    "Las librerías de Python son conjuntos de código predefinido que se utilizan para realizar tareas específicas en el lenguaje de programación Python.\n",
    "Las librerías se utilizan para diferentes propósitos, como manipulación de datos, análisis de datos, visualización de datos, aprendizaje automático, desarrollo web, entre otros. "
   ]
  },
  {
   "cell_type": "markdown",
   "id": "dc23f79f",
   "metadata": {},
   "source": [
    "## Extracción de los datos desde SQL Server"
   ]
  },
  {
   "cell_type": "code",
   "execution_count": 21,
   "id": "fd1f531c",
   "metadata": {},
   "outputs": [
    {
     "name": "stderr",
     "output_type": "stream",
     "text": [
      "C:\\Users\\juanj\\AppData\\Local\\Temp\\ipykernel_13204\\164933949.py:19: UserWarning: pandas only supports SQLAlchemy connectable (engine/connection) or database string URI or sqlite3 DBAPI2 connection. Other DBAPI2 objects are not tested. Please consider using SQLAlchemy.\n",
      "  sales_data = pd.read_sql(input_query, conn_str)\n"
     ]
    }
   ],
   "source": [
    "conn_str = pyodbc.connect('Driver={SQL Server};' 'Server=BALRODJJ;''Database=AdventureWorks2019;''Trusted_Connection=yes;')\n",
    "input_query = '''select\n",
    "\t CONCAT_WS('-',YEAR(t1.OrderDate), MONTH(t1.OrderDate)) as 'fecha',\n",
    "\t sum(t1.TotalDue) as 'ventas',\n",
    "\t sum(t2.OrderQty) as 'cantidad',\n",
    "\t count(distinct t1.SalesOrderID) as 'transacciones',\n",
    "\t sum(t1.TotalDue)/count(distinct t1.SalesOrderID) as 'monto_promedio',\n",
    "\t sum(t2.OrderQty)/count(distinct t1.SalesOrderID) as 'cantidad_promedio',\n",
    "\t count(distinct t2.ProductID) as 'variedad',\n",
    "\t count(distinct t1.CustomerID) as 'clientes',\n",
    "\t CASE \n",
    "\t\tWHEN count(distinct t1.SalesPersonID)<1 THEN 1 ELSE count(distinct t1.SalesPersonID)\n",
    "\t\tend as 'vendedores'\n",
    "from Sales.SalesOrderHeader as t1\n",
    "\tInner join Sales.SalesOrderDetail as t2 on t1.SalesOrderID = t2.SalesOrderID\n",
    "\tgroup by YEAR(t1.OrderDate), MONTH(t1.OrderDate) \n",
    "\torder by YEAR(t1.OrderDate), MONTH(t1.OrderDate)'''\n",
    "\n",
    "sales_data = pd.read_sql(input_query, conn_str)"
   ]
  },
  {
   "cell_type": "markdown",
   "id": "224d1c00-4037-44df-a43a-536f251420b7",
   "metadata": {},
   "source": [
    "### - Explicar linea por linea la query utilizada arriba"
   ]
  },
  {
   "cell_type": "code",
   "execution_count": 22,
   "id": "b6c403ce-88b1-4f30-969e-130dc7cb36d4",
   "metadata": {},
   "outputs": [
    {
     "data": {
      "text/html": [
       "<div>\n",
       "<style scoped>\n",
       "    .dataframe tbody tr th:only-of-type {\n",
       "        vertical-align: middle;\n",
       "    }\n",
       "\n",
       "    .dataframe tbody tr th {\n",
       "        vertical-align: top;\n",
       "    }\n",
       "\n",
       "    .dataframe thead th {\n",
       "        text-align: right;\n",
       "    }\n",
       "</style>\n",
       "<table border=\"1\" class=\"dataframe\">\n",
       "  <thead>\n",
       "    <tr style=\"text-align: right;\">\n",
       "      <th></th>\n",
       "      <th>fecha</th>\n",
       "      <th>ventas</th>\n",
       "      <th>cantidad</th>\n",
       "      <th>transacciones</th>\n",
       "      <th>monto_promedio</th>\n",
       "      <th>cantidad_promedio</th>\n",
       "      <th>variedad</th>\n",
       "      <th>clientes</th>\n",
       "      <th>vendedores</th>\n",
       "    </tr>\n",
       "  </thead>\n",
       "  <tbody>\n",
       "    <tr>\n",
       "      <th>0</th>\n",
       "      <td>2011-5</td>\n",
       "      <td>8.094970e+06</td>\n",
       "      <td>825</td>\n",
       "      <td>43</td>\n",
       "      <td>188255.1210</td>\n",
       "      <td>19</td>\n",
       "      <td>47</td>\n",
       "      <td>43</td>\n",
       "      <td>9</td>\n",
       "    </tr>\n",
       "    <tr>\n",
       "      <th>1</th>\n",
       "      <td>2011-6</td>\n",
       "      <td>5.070965e+05</td>\n",
       "      <td>141</td>\n",
       "      <td>141</td>\n",
       "      <td>3596.4288</td>\n",
       "      <td>1</td>\n",
       "      <td>21</td>\n",
       "      <td>141</td>\n",
       "      <td>1</td>\n",
       "    </tr>\n",
       "    <tr>\n",
       "      <th>2</th>\n",
       "      <td>2011-7</td>\n",
       "      <td>2.608142e+07</td>\n",
       "      <td>2209</td>\n",
       "      <td>231</td>\n",
       "      <td>112906.5844</td>\n",
       "      <td>9</td>\n",
       "      <td>51</td>\n",
       "      <td>231</td>\n",
       "      <td>10</td>\n",
       "    </tr>\n",
       "    <tr>\n",
       "      <th>3</th>\n",
       "      <td>2011-8</td>\n",
       "      <td>3.800996e+07</td>\n",
       "      <td>2904</td>\n",
       "      <td>250</td>\n",
       "      <td>152039.8384</td>\n",
       "      <td>11</td>\n",
       "      <td>59</td>\n",
       "      <td>250</td>\n",
       "      <td>10</td>\n",
       "    </tr>\n",
       "    <tr>\n",
       "      <th>4</th>\n",
       "      <td>2011-9</td>\n",
       "      <td>5.547916e+05</td>\n",
       "      <td>157</td>\n",
       "      <td>157</td>\n",
       "      <td>3533.7045</td>\n",
       "      <td>1</td>\n",
       "      <td>22</td>\n",
       "      <td>157</td>\n",
       "      <td>1</td>\n",
       "    </tr>\n",
       "    <tr>\n",
       "      <th>5</th>\n",
       "      <td>2011-10</td>\n",
       "      <td>8.573987e+07</td>\n",
       "      <td>5382</td>\n",
       "      <td>327</td>\n",
       "      <td>262201.4520</td>\n",
       "      <td>16</td>\n",
       "      <td>60</td>\n",
       "      <td>327</td>\n",
       "      <td>10</td>\n",
       "    </tr>\n",
       "    <tr>\n",
       "      <th>6</th>\n",
       "      <td>2011-11</td>\n",
       "      <td>8.153130e+05</td>\n",
       "      <td>230</td>\n",
       "      <td>230</td>\n",
       "      <td>3544.8391</td>\n",
       "      <td>1</td>\n",
       "      <td>23</td>\n",
       "      <td>230</td>\n",
       "      <td>1</td>\n",
       "    </tr>\n",
       "    <tr>\n",
       "      <th>7</th>\n",
       "      <td>2011-12</td>\n",
       "      <td>1.098031e+07</td>\n",
       "      <td>1040</td>\n",
       "      <td>228</td>\n",
       "      <td>48159.2465</td>\n",
       "      <td>4</td>\n",
       "      <td>51</td>\n",
       "      <td>228</td>\n",
       "      <td>9</td>\n",
       "    </tr>\n",
       "    <tr>\n",
       "      <th>8</th>\n",
       "      <td>2012-1</td>\n",
       "      <td>5.743832e+07</td>\n",
       "      <td>3967</td>\n",
       "      <td>336</td>\n",
       "      <td>170947.3956</td>\n",
       "      <td>11</td>\n",
       "      <td>51</td>\n",
       "      <td>336</td>\n",
       "      <td>10</td>\n",
       "    </tr>\n",
       "    <tr>\n",
       "      <th>9</th>\n",
       "      <td>2012-2</td>\n",
       "      <td>1.792551e+07</td>\n",
       "      <td>1442</td>\n",
       "      <td>219</td>\n",
       "      <td>81851.6572</td>\n",
       "      <td>6</td>\n",
       "      <td>58</td>\n",
       "      <td>219</td>\n",
       "      <td>10</td>\n",
       "    </tr>\n",
       "    <tr>\n",
       "      <th>10</th>\n",
       "      <td>2012-3</td>\n",
       "      <td>4.927356e+07</td>\n",
       "      <td>3184</td>\n",
       "      <td>304</td>\n",
       "      <td>162084.0672</td>\n",
       "      <td>10</td>\n",
       "      <td>59</td>\n",
       "      <td>304</td>\n",
       "      <td>9</td>\n",
       "    </tr>\n",
       "    <tr>\n",
       "      <th>11</th>\n",
       "      <td>2012-4</td>\n",
       "      <td>2.606104e+07</td>\n",
       "      <td>2405</td>\n",
       "      <td>269</td>\n",
       "      <td>96881.1956</td>\n",
       "      <td>8</td>\n",
       "      <td>58</td>\n",
       "      <td>269</td>\n",
       "      <td>10</td>\n",
       "    </tr>\n",
       "    <tr>\n",
       "      <th>12</th>\n",
       "      <td>2012-5</td>\n",
       "      <td>1.192323e+08</td>\n",
       "      <td>7723</td>\n",
       "      <td>293</td>\n",
       "      <td>406936.2045</td>\n",
       "      <td>26</td>\n",
       "      <td>120</td>\n",
       "      <td>293</td>\n",
       "      <td>12</td>\n",
       "    </tr>\n",
       "    <tr>\n",
       "      <th>13</th>\n",
       "      <td>2012-6</td>\n",
       "      <td>1.687460e+08</td>\n",
       "      <td>11295</td>\n",
       "      <td>390</td>\n",
       "      <td>432681.9233</td>\n",
       "      <td>28</td>\n",
       "      <td>107</td>\n",
       "      <td>390</td>\n",
       "      <td>13</td>\n",
       "    </tr>\n",
       "    <tr>\n",
       "      <th>14</th>\n",
       "      <td>2012-7</td>\n",
       "      <td>1.414237e+08</td>\n",
       "      <td>9142</td>\n",
       "      <td>385</td>\n",
       "      <td>367334.4062</td>\n",
       "      <td>23</td>\n",
       "      <td>107</td>\n",
       "      <td>385</td>\n",
       "      <td>12</td>\n",
       "    </tr>\n",
       "    <tr>\n",
       "      <th>15</th>\n",
       "      <td>2012-8</td>\n",
       "      <td>7.558641e+07</td>\n",
       "      <td>5567</td>\n",
       "      <td>285</td>\n",
       "      <td>265215.4770</td>\n",
       "      <td>19</td>\n",
       "      <td>100</td>\n",
       "      <td>285</td>\n",
       "      <td>12</td>\n",
       "    </tr>\n",
       "    <tr>\n",
       "      <th>16</th>\n",
       "      <td>2012-9</td>\n",
       "      <td>1.223055e+08</td>\n",
       "      <td>8294</td>\n",
       "      <td>352</td>\n",
       "      <td>347458.9105</td>\n",
       "      <td>23</td>\n",
       "      <td>100</td>\n",
       "      <td>352</td>\n",
       "      <td>13</td>\n",
       "    </tr>\n",
       "    <tr>\n",
       "      <th>17</th>\n",
       "      <td>2012-10</td>\n",
       "      <td>8.901987e+07</td>\n",
       "      <td>6549</td>\n",
       "      <td>321</td>\n",
       "      <td>277320.4592</td>\n",
       "      <td>20</td>\n",
       "      <td>100</td>\n",
       "      <td>321</td>\n",
       "      <td>13</td>\n",
       "    </tr>\n",
       "    <tr>\n",
       "      <th>18</th>\n",
       "      <td>2012-11</td>\n",
       "      <td>3.977622e+07</td>\n",
       "      <td>3606</td>\n",
       "      <td>383</td>\n",
       "      <td>103854.3503</td>\n",
       "      <td>9</td>\n",
       "      <td>83</td>\n",
       "      <td>383</td>\n",
       "      <td>12</td>\n",
       "    </tr>\n",
       "    <tr>\n",
       "      <th>19</th>\n",
       "      <td>2012-12</td>\n",
       "      <td>6.598887e+07</td>\n",
       "      <td>5405</td>\n",
       "      <td>378</td>\n",
       "      <td>174573.7295</td>\n",
       "      <td>14</td>\n",
       "      <td>83</td>\n",
       "      <td>378</td>\n",
       "      <td>13</td>\n",
       "    </tr>\n",
       "    <tr>\n",
       "      <th>20</th>\n",
       "      <td>2013-1</td>\n",
       "      <td>4.571396e+07</td>\n",
       "      <td>4154</td>\n",
       "      <td>400</td>\n",
       "      <td>114284.8994</td>\n",
       "      <td>10</td>\n",
       "      <td>83</td>\n",
       "      <td>400</td>\n",
       "      <td>13</td>\n",
       "    </tr>\n",
       "    <tr>\n",
       "      <th>21</th>\n",
       "      <td>2013-2</td>\n",
       "      <td>8.138381e+07</td>\n",
       "      <td>5651</td>\n",
       "      <td>325</td>\n",
       "      <td>250411.7321</td>\n",
       "      <td>17</td>\n",
       "      <td>99</td>\n",
       "      <td>325</td>\n",
       "      <td>14</td>\n",
       "    </tr>\n",
       "    <tr>\n",
       "      <th>22</th>\n",
       "      <td>2013-3</td>\n",
       "      <td>1.182912e+08</td>\n",
       "      <td>8250</td>\n",
       "      <td>441</td>\n",
       "      <td>268233.9739</td>\n",
       "      <td>18</td>\n",
       "      <td>99</td>\n",
       "      <td>441</td>\n",
       "      <td>13</td>\n",
       "    </tr>\n",
       "    <tr>\n",
       "      <th>23</th>\n",
       "      <td>2013-4</td>\n",
       "      <td>8.188507e+07</td>\n",
       "      <td>6449</td>\n",
       "      <td>428</td>\n",
       "      <td>191320.2664</td>\n",
       "      <td>15</td>\n",
       "      <td>99</td>\n",
       "      <td>428</td>\n",
       "      <td>14</td>\n",
       "    </tr>\n",
       "    <tr>\n",
       "      <th>24</th>\n",
       "      <td>2013-5</td>\n",
       "      <td>1.282748e+08</td>\n",
       "      <td>10260</td>\n",
       "      <td>428</td>\n",
       "      <td>299707.4117</td>\n",
       "      <td>23</td>\n",
       "      <td>196</td>\n",
       "      <td>426</td>\n",
       "      <td>15</td>\n",
       "    </tr>\n",
       "    <tr>\n",
       "      <th>25</th>\n",
       "      <td>2013-6</td>\n",
       "      <td>1.962551e+08</td>\n",
       "      <td>16611</td>\n",
       "      <td>719</td>\n",
       "      <td>272955.6301</td>\n",
       "      <td>23</td>\n",
       "      <td>194</td>\n",
       "      <td>713</td>\n",
       "      <td>16</td>\n",
       "    </tr>\n",
       "    <tr>\n",
       "      <th>26</th>\n",
       "      <td>2013-7</td>\n",
       "      <td>1.925832e+08</td>\n",
       "      <td>18589</td>\n",
       "      <td>1740</td>\n",
       "      <td>110680.0206</td>\n",
       "      <td>10</td>\n",
       "      <td>187</td>\n",
       "      <td>1675</td>\n",
       "      <td>17</td>\n",
       "    </tr>\n",
       "    <tr>\n",
       "      <th>27</th>\n",
       "      <td>2013-8</td>\n",
       "      <td>9.361898e+07</td>\n",
       "      <td>11548</td>\n",
       "      <td>1789</td>\n",
       "      <td>52330.3384</td>\n",
       "      <td>6</td>\n",
       "      <td>167</td>\n",
       "      <td>1727</td>\n",
       "      <td>16</td>\n",
       "    </tr>\n",
       "    <tr>\n",
       "      <th>28</th>\n",
       "      <td>2013-9</td>\n",
       "      <td>1.340201e+08</td>\n",
       "      <td>14576</td>\n",
       "      <td>1791</td>\n",
       "      <td>74829.7700</td>\n",
       "      <td>8</td>\n",
       "      <td>173</td>\n",
       "      <td>1741</td>\n",
       "      <td>17</td>\n",
       "    </tr>\n",
       "    <tr>\n",
       "      <th>29</th>\n",
       "      <td>2013-10</td>\n",
       "      <td>1.370603e+08</td>\n",
       "      <td>14984</td>\n",
       "      <td>1968</td>\n",
       "      <td>69644.4730</td>\n",
       "      <td>7</td>\n",
       "      <td>169</td>\n",
       "      <td>1893</td>\n",
       "      <td>16</td>\n",
       "    </tr>\n",
       "    <tr>\n",
       "      <th>30</th>\n",
       "      <td>2013-11</td>\n",
       "      <td>5.434172e+07</td>\n",
       "      <td>9667</td>\n",
       "      <td>2103</td>\n",
       "      <td>25840.0974</td>\n",
       "      <td>4</td>\n",
       "      <td>145</td>\n",
       "      <td>2041</td>\n",
       "      <td>17</td>\n",
       "    </tr>\n",
       "    <tr>\n",
       "      <th>31</th>\n",
       "      <td>2013-12</td>\n",
       "      <td>7.954001e+07</td>\n",
       "      <td>11049</td>\n",
       "      <td>2050</td>\n",
       "      <td>38800.0035</td>\n",
       "      <td>5</td>\n",
       "      <td>148</td>\n",
       "      <td>1970</td>\n",
       "      <td>16</td>\n",
       "    </tr>\n",
       "    <tr>\n",
       "      <th>32</th>\n",
       "      <td>2014-1</td>\n",
       "      <td>8.022601e+07</td>\n",
       "      <td>11463</td>\n",
       "      <td>2141</td>\n",
       "      <td>37471.2788</td>\n",
       "      <td>5</td>\n",
       "      <td>145</td>\n",
       "      <td>2073</td>\n",
       "      <td>16</td>\n",
       "    </tr>\n",
       "    <tr>\n",
       "      <th>33</th>\n",
       "      <td>2014-2</td>\n",
       "      <td>4.094288e+06</td>\n",
       "      <td>4287</td>\n",
       "      <td>1756</td>\n",
       "      <td>2331.5993</td>\n",
       "      <td>2</td>\n",
       "      <td>109</td>\n",
       "      <td>1713</td>\n",
       "      <td>2</td>\n",
       "    </tr>\n",
       "    <tr>\n",
       "      <th>34</th>\n",
       "      <td>2014-3</td>\n",
       "      <td>2.150542e+08</td>\n",
       "      <td>22582</td>\n",
       "      <td>2399</td>\n",
       "      <td>89643.2876</td>\n",
       "      <td>9</td>\n",
       "      <td>173</td>\n",
       "      <td>2342</td>\n",
       "      <td>17</td>\n",
       "    </tr>\n",
       "    <tr>\n",
       "      <th>35</th>\n",
       "      <td>2014-4</td>\n",
       "      <td>5.567935e+06</td>\n",
       "      <td>5313</td>\n",
       "      <td>2115</td>\n",
       "      <td>2632.5935</td>\n",
       "      <td>2</td>\n",
       "      <td>108</td>\n",
       "      <td>2058</td>\n",
       "      <td>1</td>\n",
       "    </tr>\n",
       "    <tr>\n",
       "      <th>36</th>\n",
       "      <td>2014-5</td>\n",
       "      <td>1.353521e+08</td>\n",
       "      <td>15884</td>\n",
       "      <td>2411</td>\n",
       "      <td>56139.4170</td>\n",
       "      <td>6</td>\n",
       "      <td>166</td>\n",
       "      <td>2350</td>\n",
       "      <td>16</td>\n",
       "    </tr>\n",
       "    <tr>\n",
       "      <th>37</th>\n",
       "      <td>2014-6</td>\n",
       "      <td>1.461499e+05</td>\n",
       "      <td>2130</td>\n",
       "      <td>939</td>\n",
       "      <td>155.6441</td>\n",
       "      <td>2</td>\n",
       "      <td>42</td>\n",
       "      <td>898</td>\n",
       "      <td>1</td>\n",
       "    </tr>\n",
       "  </tbody>\n",
       "</table>\n",
       "</div>"
      ],
      "text/plain": [
       "      fecha        ventas  cantidad  transacciones  monto_promedio  \\\n",
       "0    2011-5  8.094970e+06       825             43     188255.1210   \n",
       "1    2011-6  5.070965e+05       141            141       3596.4288   \n",
       "2    2011-7  2.608142e+07      2209            231     112906.5844   \n",
       "3    2011-8  3.800996e+07      2904            250     152039.8384   \n",
       "4    2011-9  5.547916e+05       157            157       3533.7045   \n",
       "5   2011-10  8.573987e+07      5382            327     262201.4520   \n",
       "6   2011-11  8.153130e+05       230            230       3544.8391   \n",
       "7   2011-12  1.098031e+07      1040            228      48159.2465   \n",
       "8    2012-1  5.743832e+07      3967            336     170947.3956   \n",
       "9    2012-2  1.792551e+07      1442            219      81851.6572   \n",
       "10   2012-3  4.927356e+07      3184            304     162084.0672   \n",
       "11   2012-4  2.606104e+07      2405            269      96881.1956   \n",
       "12   2012-5  1.192323e+08      7723            293     406936.2045   \n",
       "13   2012-6  1.687460e+08     11295            390     432681.9233   \n",
       "14   2012-7  1.414237e+08      9142            385     367334.4062   \n",
       "15   2012-8  7.558641e+07      5567            285     265215.4770   \n",
       "16   2012-9  1.223055e+08      8294            352     347458.9105   \n",
       "17  2012-10  8.901987e+07      6549            321     277320.4592   \n",
       "18  2012-11  3.977622e+07      3606            383     103854.3503   \n",
       "19  2012-12  6.598887e+07      5405            378     174573.7295   \n",
       "20   2013-1  4.571396e+07      4154            400     114284.8994   \n",
       "21   2013-2  8.138381e+07      5651            325     250411.7321   \n",
       "22   2013-3  1.182912e+08      8250            441     268233.9739   \n",
       "23   2013-4  8.188507e+07      6449            428     191320.2664   \n",
       "24   2013-5  1.282748e+08     10260            428     299707.4117   \n",
       "25   2013-6  1.962551e+08     16611            719     272955.6301   \n",
       "26   2013-7  1.925832e+08     18589           1740     110680.0206   \n",
       "27   2013-8  9.361898e+07     11548           1789      52330.3384   \n",
       "28   2013-9  1.340201e+08     14576           1791      74829.7700   \n",
       "29  2013-10  1.370603e+08     14984           1968      69644.4730   \n",
       "30  2013-11  5.434172e+07      9667           2103      25840.0974   \n",
       "31  2013-12  7.954001e+07     11049           2050      38800.0035   \n",
       "32   2014-1  8.022601e+07     11463           2141      37471.2788   \n",
       "33   2014-2  4.094288e+06      4287           1756       2331.5993   \n",
       "34   2014-3  2.150542e+08     22582           2399      89643.2876   \n",
       "35   2014-4  5.567935e+06      5313           2115       2632.5935   \n",
       "36   2014-5  1.353521e+08     15884           2411      56139.4170   \n",
       "37   2014-6  1.461499e+05      2130            939        155.6441   \n",
       "\n",
       "    cantidad_promedio  variedad  clientes  vendedores  \n",
       "0                  19        47        43           9  \n",
       "1                   1        21       141           1  \n",
       "2                   9        51       231          10  \n",
       "3                  11        59       250          10  \n",
       "4                   1        22       157           1  \n",
       "5                  16        60       327          10  \n",
       "6                   1        23       230           1  \n",
       "7                   4        51       228           9  \n",
       "8                  11        51       336          10  \n",
       "9                   6        58       219          10  \n",
       "10                 10        59       304           9  \n",
       "11                  8        58       269          10  \n",
       "12                 26       120       293          12  \n",
       "13                 28       107       390          13  \n",
       "14                 23       107       385          12  \n",
       "15                 19       100       285          12  \n",
       "16                 23       100       352          13  \n",
       "17                 20       100       321          13  \n",
       "18                  9        83       383          12  \n",
       "19                 14        83       378          13  \n",
       "20                 10        83       400          13  \n",
       "21                 17        99       325          14  \n",
       "22                 18        99       441          13  \n",
       "23                 15        99       428          14  \n",
       "24                 23       196       426          15  \n",
       "25                 23       194       713          16  \n",
       "26                 10       187      1675          17  \n",
       "27                  6       167      1727          16  \n",
       "28                  8       173      1741          17  \n",
       "29                  7       169      1893          16  \n",
       "30                  4       145      2041          17  \n",
       "31                  5       148      1970          16  \n",
       "32                  5       145      2073          16  \n",
       "33                  2       109      1713           2  \n",
       "34                  9       173      2342          17  \n",
       "35                  2       108      2058           1  \n",
       "36                  6       166      2350          16  \n",
       "37                  2        42       898           1  "
      ]
     },
     "execution_count": 22,
     "metadata": {},
     "output_type": "execute_result"
    }
   ],
   "source": [
    "sales_data"
   ]
  },
  {
   "cell_type": "markdown",
   "id": "5016e56b-ae3b-4336-a4f2-88cc3d582dcb",
   "metadata": {},
   "source": [
    "### - Explicar tabla de arriba, por ejemplo: ¿Que significa cada columna?"
   ]
  },
  {
   "cell_type": "code",
   "execution_count": null,
   "id": "0de1cd3f-54b5-4b4a-97b0-a3952c5c9c23",
   "metadata": {},
   "outputs": [],
   "source": []
  },
  {
   "cell_type": "markdown",
   "id": "ed4031fb-7e9b-4f17-9a50-70ee847404a4",
   "metadata": {},
   "source": [
    "### - Aproximar a dos decimales el monto_promedio"
   ]
  },
  {
   "cell_type": "code",
   "execution_count": null,
   "id": "25fdc6bb-c424-4bb1-a646-07ab94bfda6b",
   "metadata": {},
   "outputs": [],
   "source": []
  },
  {
   "cell_type": "markdown",
   "id": "fb991fc2-4b3f-4332-b7e7-a45dc0cde795",
   "metadata": {},
   "source": [
    "### - Efectuar la misma conexión a la base de datos usando SQLAlchemy, usar también la misma query."
   ]
  },
  {
   "cell_type": "code",
   "execution_count": null,
   "id": "85675e5e-41d1-4d1e-8110-bb4a242c6b48",
   "metadata": {},
   "outputs": [],
   "source": []
  },
  {
   "cell_type": "markdown",
   "id": "4eb62cbf",
   "metadata": {},
   "source": [
    "## Exploración del dataset extraído"
   ]
  },
  {
   "cell_type": "markdown",
   "id": "b2e710c1-619c-42d9-a6e9-fb56e0365c88",
   "metadata": {},
   "source": [
    "### - Muestre la información general del dataframe"
   ]
  },
  {
   "cell_type": "code",
   "execution_count": 5,
   "id": "e2ed3c8e-8fa8-4661-a07a-d65e37b90fda",
   "metadata": {},
   "outputs": [],
   "source": []
  },
  {
   "cell_type": "markdown",
   "id": "d8d318bb-9f06-459e-a6f7-08e2ba6366ae",
   "metadata": {},
   "source": [
    "### - Muestre los tipos de datos de cada columna:"
   ]
  },
  {
   "cell_type": "code",
   "execution_count": null,
   "id": "dbb9823f-b4f5-4937-96a3-086cc047ea21",
   "metadata": {},
   "outputs": [],
   "source": []
  },
  {
   "cell_type": "code",
   "execution_count": null,
   "id": "bab426c3-6fc6-44ae-8754-94fa2e4cdd52",
   "metadata": {},
   "outputs": [],
   "source": []
  },
  {
   "cell_type": "markdown",
   "id": "a624cdb5-4090-4d18-a87b-35c4aec8aebf",
   "metadata": {},
   "source": [
    "### - Dimensiones del dataframe (shape)"
   ]
  },
  {
   "cell_type": "code",
   "execution_count": null,
   "id": "5ad35e2b",
   "metadata": {},
   "outputs": [],
   "source": []
  },
  {
   "cell_type": "markdown",
   "id": "dc16a958-0a4c-4129-a536-7612611db9b8",
   "metadata": {},
   "source": [
    "### - Imprima un resumen de las principales estadisticas descriptivas para el dataframe ventas: count, mean, std, min, 25%,  50%, 75%, max. Explique e interprete la salida. "
   ]
  },
  {
   "cell_type": "code",
   "execution_count": null,
   "id": "71e4454c-75b5-4331-bd14-54a9aec92bf6",
   "metadata": {},
   "outputs": [],
   "source": []
  },
  {
   "cell_type": "markdown",
   "id": "898f2a0a-874e-47a6-bb36-b3b889175d69",
   "metadata": {},
   "source": [
    "### - Aproxime los resultados anteriores a dos decimales aquellas columnas que lo requieran"
   ]
  },
  {
   "cell_type": "code",
   "execution_count": null,
   "id": "52075eda-0a36-4a12-bfcf-207754277982",
   "metadata": {},
   "outputs": [],
   "source": []
  },
  {
   "cell_type": "markdown",
   "id": "af198a76-21c9-408a-903b-43d82198f837",
   "metadata": {},
   "source": [
    "### - Imprimir en un objeto tipo Index todas las columnas del dataframe"
   ]
  },
  {
   "cell_type": "code",
   "execution_count": null,
   "id": "84439d18",
   "metadata": {},
   "outputs": [],
   "source": []
  },
  {
   "cell_type": "markdown",
   "id": "fbc5c817-51d7-45d9-8ca2-3ec7ff8e4fa0",
   "metadata": {},
   "source": [
    "### - Muestre el contenido de las primeras 15 líneas del dataframe"
   ]
  },
  {
   "cell_type": "code",
   "execution_count": null,
   "id": "251e9597",
   "metadata": {},
   "outputs": [],
   "source": []
  },
  {
   "cell_type": "markdown",
   "id": "95fff65f-fe58-4b56-bc85-e23b81fe4568",
   "metadata": {},
   "source": [
    "### - Muestre las últimas cinco líneas del dataframe"
   ]
  },
  {
   "cell_type": "code",
   "execution_count": null,
   "id": "3909b7d1-76d2-450f-a9c9-9e335a194e19",
   "metadata": {},
   "outputs": [],
   "source": []
  },
  {
   "cell_type": "markdown",
   "id": "92240aff-df9d-464a-8056-8e2f22a6cd82",
   "metadata": {},
   "source": [
    "### Calcular el cambio procentual (o incremento porcentual) de las ventas mes a mes. Recordar el ejemplo realizado en clase con las acciones de las 'Big Four' del 2010."
   ]
  },
  {
   "cell_type": "code",
   "execution_count": null,
   "id": "097fcc84-9000-4fc2-ac3a-0a1576234b20",
   "metadata": {},
   "outputs": [],
   "source": []
  },
  {
   "cell_type": "markdown",
   "id": "3b984043-ab9d-4c37-bdfa-82e956a5b9e4",
   "metadata": {},
   "source": [
    "### - Calcular el promedio de ventas de por trimestre y por año."
   ]
  },
  {
   "cell_type": "code",
   "execution_count": null,
   "id": "5f061e50-7e68-4a12-b51c-fbc7078a874d",
   "metadata": {},
   "outputs": [],
   "source": []
  },
  {
   "cell_type": "markdown",
   "id": "d338cca7",
   "metadata": {},
   "source": [
    "## Procesamiento de los datos: Cálculo de la correlación entre las variables"
   ]
  },
  {
   "cell_type": "markdown",
   "id": "93992f8d-5b87-4952-8f3c-5b594e580e29",
   "metadata": {},
   "source": [
    "### - Seleccionar solo columnas numéricas del dataframe:"
   ]
  },
  {
   "cell_type": "code",
   "execution_count": null,
   "id": "ec38062a-15d0-4176-8c4c-79a21ffe4f9c",
   "metadata": {},
   "outputs": [],
   "source": []
  },
  {
   "cell_type": "markdown",
   "id": "408bf737-4958-49f4-b00d-6f44e4c13fb2",
   "metadata": {},
   "source": [
    "### - Imprima la nueva dataset con las columnas numéricas"
   ]
  },
  {
   "cell_type": "code",
   "execution_count": null,
   "id": "eac47455-dff2-4523-aef7-c56594517312",
   "metadata": {},
   "outputs": [],
   "source": []
  },
  {
   "cell_type": "markdown",
   "id": "a3d3470f-3bb4-4f8b-bd75-32c4251be008",
   "metadata": {},
   "source": [
    "### - Calcular la correlación, imprima la matriz de correlación."
   ]
  },
  {
   "cell_type": "code",
   "execution_count": 23,
   "id": "cddcf130",
   "metadata": {},
   "outputs": [
    {
     "data": {
      "text/html": [
       "<div>\n",
       "<style scoped>\n",
       "    .dataframe tbody tr th:only-of-type {\n",
       "        vertical-align: middle;\n",
       "    }\n",
       "\n",
       "    .dataframe tbody tr th {\n",
       "        vertical-align: top;\n",
       "    }\n",
       "\n",
       "    .dataframe thead th {\n",
       "        text-align: right;\n",
       "    }\n",
       "</style>\n",
       "<table border=\"1\" class=\"dataframe\">\n",
       "  <thead>\n",
       "    <tr style=\"text-align: right;\">\n",
       "      <th></th>\n",
       "      <th>ventas</th>\n",
       "      <th>cantidad</th>\n",
       "      <th>transacciones</th>\n",
       "      <th>monto_promedio</th>\n",
       "      <th>cantidad_promedio</th>\n",
       "      <th>variedad</th>\n",
       "      <th>clientes</th>\n",
       "      <th>vendedores</th>\n",
       "    </tr>\n",
       "  </thead>\n",
       "  <tbody>\n",
       "    <tr>\n",
       "      <th>ventas</th>\n",
       "      <td>1.000000</td>\n",
       "      <td>0.905770</td>\n",
       "      <td>0.340578</td>\n",
       "      <td>0.518040</td>\n",
       "      <td>0.560443</td>\n",
       "      <td>0.786085</td>\n",
       "      <td>0.343143</td>\n",
       "      <td>0.756155</td>\n",
       "    </tr>\n",
       "    <tr>\n",
       "      <th>cantidad</th>\n",
       "      <td>0.905770</td>\n",
       "      <td>1.000000</td>\n",
       "      <td>0.695079</td>\n",
       "      <td>0.150793</td>\n",
       "      <td>0.220271</td>\n",
       "      <td>0.911487</td>\n",
       "      <td>0.696895</td>\n",
       "      <td>0.741270</td>\n",
       "    </tr>\n",
       "    <tr>\n",
       "      <th>transacciones</th>\n",
       "      <td>0.340578</td>\n",
       "      <td>0.695079</td>\n",
       "      <td>1.000000</td>\n",
       "      <td>-0.471896</td>\n",
       "      <td>-0.419235</td>\n",
       "      <td>0.691916</td>\n",
       "      <td>0.999950</td>\n",
       "      <td>0.344915</td>\n",
       "    </tr>\n",
       "    <tr>\n",
       "      <th>monto_promedio</th>\n",
       "      <td>0.518040</td>\n",
       "      <td>0.150793</td>\n",
       "      <td>-0.471896</td>\n",
       "      <td>1.000000</td>\n",
       "      <td>0.980627</td>\n",
       "      <td>0.135919</td>\n",
       "      <td>-0.469092</td>\n",
       "      <td>0.351248</td>\n",
       "    </tr>\n",
       "    <tr>\n",
       "      <th>cantidad_promedio</th>\n",
       "      <td>0.560443</td>\n",
       "      <td>0.220271</td>\n",
       "      <td>-0.419235</td>\n",
       "      <td>0.980627</td>\n",
       "      <td>1.000000</td>\n",
       "      <td>0.227174</td>\n",
       "      <td>-0.416486</td>\n",
       "      <td>0.421830</td>\n",
       "    </tr>\n",
       "    <tr>\n",
       "      <th>variedad</th>\n",
       "      <td>0.786085</td>\n",
       "      <td>0.911487</td>\n",
       "      <td>0.691916</td>\n",
       "      <td>0.135919</td>\n",
       "      <td>0.227174</td>\n",
       "      <td>1.000000</td>\n",
       "      <td>0.693319</td>\n",
       "      <td>0.749922</td>\n",
       "    </tr>\n",
       "    <tr>\n",
       "      <th>clientes</th>\n",
       "      <td>0.343143</td>\n",
       "      <td>0.696895</td>\n",
       "      <td>0.999950</td>\n",
       "      <td>-0.469092</td>\n",
       "      <td>-0.416486</td>\n",
       "      <td>0.693319</td>\n",
       "      <td>1.000000</td>\n",
       "      <td>0.346082</td>\n",
       "    </tr>\n",
       "    <tr>\n",
       "      <th>vendedores</th>\n",
       "      <td>0.756155</td>\n",
       "      <td>0.741270</td>\n",
       "      <td>0.344915</td>\n",
       "      <td>0.351248</td>\n",
       "      <td>0.421830</td>\n",
       "      <td>0.749922</td>\n",
       "      <td>0.346082</td>\n",
       "      <td>1.000000</td>\n",
       "    </tr>\n",
       "  </tbody>\n",
       "</table>\n",
       "</div>"
      ],
      "text/plain": [
       "                     ventas  cantidad  transacciones  monto_promedio  \\\n",
       "ventas             1.000000  0.905770       0.340578        0.518040   \n",
       "cantidad           0.905770  1.000000       0.695079        0.150793   \n",
       "transacciones      0.340578  0.695079       1.000000       -0.471896   \n",
       "monto_promedio     0.518040  0.150793      -0.471896        1.000000   \n",
       "cantidad_promedio  0.560443  0.220271      -0.419235        0.980627   \n",
       "variedad           0.786085  0.911487       0.691916        0.135919   \n",
       "clientes           0.343143  0.696895       0.999950       -0.469092   \n",
       "vendedores         0.756155  0.741270       0.344915        0.351248   \n",
       "\n",
       "                   cantidad_promedio  variedad  clientes  vendedores  \n",
       "ventas                      0.560443  0.786085  0.343143    0.756155  \n",
       "cantidad                    0.220271  0.911487  0.696895    0.741270  \n",
       "transacciones              -0.419235  0.691916  0.999950    0.344915  \n",
       "monto_promedio              0.980627  0.135919 -0.469092    0.351248  \n",
       "cantidad_promedio           1.000000  0.227174 -0.416486    0.421830  \n",
       "variedad                    0.227174  1.000000  0.693319    0.749922  \n",
       "clientes                   -0.416486  0.693319  1.000000    0.346082  \n",
       "vendedores                  0.421830  0.749922  0.346082    1.000000  "
      ]
     },
     "execution_count": 23,
     "metadata": {},
     "output_type": "execute_result"
    }
   ],
   "source": [
    "correlation = numeric_sales_data.corr()\n",
    "correlation"
   ]
  },
  {
   "cell_type": "markdown",
   "id": "dbf19deb",
   "metadata": {},
   "source": [
    "### Graficar la matriz de correlación siguiendo el estilo de un mapa de calor:"
   ]
  },
  {
   "cell_type": "markdown",
   "id": "43d92a5e-8d74-44f4-b5eb-e26a1fc2ccc6",
   "metadata": {},
   "source": [
    "### - Explicar línea por línea el siguiente código:"
   ]
  },
  {
   "cell_type": "code",
   "execution_count": 24,
   "id": "d4c3c83a",
   "metadata": {},
   "outputs": [
    {
     "data": {
      "image/png": "[encoded data removed]",
      "text/plain": [
       "<Figure size 1000x500 with 2 Axes>"
      ]
     },
     "metadata": {},
     "output_type": "display_data"
    }
   ],
   "source": [
    "plt.figure(figsize=(10,5))\n",
    "sns.heatmap(numeric_sales_data[correlation.index].corr(), annot=True)\n",
    "plt.show()"
   ]
  },
  {
   "cell_type": "markdown",
   "id": "86b8b58b-1f80-4068-8495-e8d5895a377d",
   "metadata": {},
   "source": [
    "### - Describa y explique la salida (la matriz de correlación) anterior"
   ]
  },
  {
   "cell_type": "markdown",
   "id": "d9d9fcd4",
   "metadata": {},
   "source": [
    "### Selección de las variables más correlacionadas con las ventas"
   ]
  },
  {
   "cell_type": "code",
   "execution_count": 25,
   "id": "c5f8c853",
   "metadata": {},
   "outputs": [],
   "source": [
    "correlation = correlation[\"ventas\"].sort_values(ascending=False)"
   ]
  },
  {
   "cell_type": "markdown",
   "id": "c338dd2d-b161-4982-943b-c24191eb13b0",
   "metadata": {},
   "source": [
    "### Explicar el código dado arriba"
   ]
  },
  {
   "cell_type": "markdown",
   "id": "e73662bb",
   "metadata": {},
   "source": [
    "### - Visualización gráfica de las variables correlacionadas"
   ]
  },
  {
   "cell_type": "markdown",
   "id": "704a2102-3303-48e6-8a30-6ccf05288ac8",
   "metadata": {},
   "source": [
    "### - Explicar linea por línea el siguiente código:"
   ]
  },
  {
   "cell_type": "code",
   "execution_count": 26,
   "id": "122f929c",
   "metadata": {},
   "outputs": [
    {
     "data": {
      "image/png": "[encoded data removed]",
      "text/plain": [
       "<Figure size 1000x500 with 1 Axes>"
      ]
     },
     "metadata": {},
     "output_type": "display_data"
    }
   ],
   "source": [
    "plt.figure(figsize=(10,5))\n",
    "sns.barplot(x=correlation.values, y=correlation.index)\n",
    "plt.title(\"Correlación con las ventas\")\n",
    "plt.xlabel(\"Correlación\")\n",
    "plt.ylabel(\"Variable\")\n",
    "plt.show()"
   ]
  },
  {
   "cell_type": "markdown",
   "id": "5820e6eb-92f0-4af8-a473-aaec8f29befd",
   "metadata": {},
   "source": [
    "### - Interpretar el plot de arriba"
   ]
  },
  {
   "cell_type": "code",
   "execution_count": null,
   "id": "9d942e41-d2bf-483b-ab18-be3c08d7a8d7",
   "metadata": {},
   "outputs": [],
   "source": []
  },
  {
   "cell_type": "markdown",
   "id": "3604c04e-3483-4fee-a084-d1587140efc9",
   "metadata": {},
   "source": [
    "### - Seleccionar las variables mas correlacionadas,  esta vez con monto_promedio"
   ]
  },
  {
   "cell_type": "code",
   "execution_count": null,
   "id": "ba25129c-807f-46f5-811d-e9970cd91456",
   "metadata": {},
   "outputs": [],
   "source": []
  },
  {
   "cell_type": "markdown",
   "id": "307764c6-1603-46b2-8b8e-aeb55308df40",
   "metadata": {},
   "source": [
    "### - Visualización gráfica de las variables correlacionadas con monto_promedio"
   ]
  },
  {
   "cell_type": "code",
   "execution_count": null,
   "id": "f1434cd9-bba6-47f9-a1ab-ed030720c656",
   "metadata": {},
   "outputs": [],
   "source": []
  },
  {
   "cell_type": "markdown",
   "id": "c3ce1d1b",
   "metadata": {},
   "source": [
    "## Pruebas formales para determinar la influencia de cada variable en las ventas"
   ]
  },
  {
   "cell_type": "markdown",
   "id": "9485f397",
   "metadata": {},
   "source": [
    "Las pruebas formales se refieren a un conjunto de técnicas estadísticas y matemáticas que se utilizan para validar las hipótesis y afirmaciones hechas sobre los datos en un estudio o análisis.\n",
    "\n",
    "Asimismo, las pruebas formales son una parte importante del análisis de datos ya que permiten tomar decisiones basadas en evidencia sólida en lugar de basarse únicamente en la intuición o el juicio subjetivo. \n",
    "\n",
    "Estas pruebas ayudan a los investigadores a determinar si los patrones o relaciones observados en los datos son estadísticamente significativos o simplemente el resultado del azar."
   ]
  },
  {
   "cell_type": "markdown",
   "id": "2c919b5f-f10d-45a9-b8d7-96c7ee7a7e47",
   "metadata": {},
   "source": [
    "### - Explicar línea por línea el siguiente código:"
   ]
  },
  {
   "cell_type": "code",
   "execution_count": 27,
   "id": "753651a7",
   "metadata": {},
   "outputs": [],
   "source": [
    "influencers = []\n",
    "for variable in correlation.index:\n",
    "    p_value, corr = stats.pearsonr(numeric_sales_data[\"ventas\"], numeric_sales_data[variable])\n",
    "    if p_value <= 0.05:\n",
    "        influencers.append((variable, corr))\n",
    "    elif p_value > 0.05:\n",
    "        influencers.append((variable, corr, \"No significativo\"))"
   ]
  },
  {
   "cell_type": "markdown",
   "id": "dcd3d83c-bc47-4b9b-97ba-9688c5b31e3a",
   "metadata": {},
   "source": [
    "### - Utlizar código de arriba pero tomando como referencia la varible monto_promedio"
   ]
  },
  {
   "cell_type": "code",
   "execution_count": null,
   "id": "5779747d-66e7-4c64-981f-dd35dee9dc3d",
   "metadata": {},
   "outputs": [],
   "source": []
  },
  {
   "cell_type": "markdown",
   "id": "d4991dcb",
   "metadata": {},
   "source": [
    "### Impresión de los resultados"
   ]
  },
  {
   "cell_type": "markdown",
   "id": "c50181c3-99cc-4adc-8ca5-a6897a117fe7",
   "metadata": {},
   "source": [
    "### - Explicar línea por línea el siguiente código:  "
   ]
  },
  {
   "cell_type": "code",
   "execution_count": 28,
   "id": "57b50995",
   "metadata": {},
   "outputs": [
    {
     "name": "stdout",
     "output_type": "stream",
     "text": [
      "Variables influyentes en las ventas:\n",
      "ventas: correlación = 0.00 (No significativo)\n",
      "cantidad: correlación = 0.00 (No significativo)\n",
      "variedad: correlación = 0.00 (No significativo)\n",
      "vendedores: correlación = 0.00 (No significativo)\n",
      "cantidad_promedio: correlación = 0.00 (No significativo)\n",
      "monto_promedio: correlación = 0.00 (No significativo)\n",
      "clientes: correlación = 0.03 (No significativo)\n",
      "transacciones: correlación = 0.04 (No significativo)\n"
     ]
    }
   ],
   "source": [
    "print(\"Variables influyentes en las ventas:\")\n",
    "for variable, corr, significance in influencers:\n",
    "    if len(influencers) > 2:\n",
    "        print(f\"{variable}: correlación = {corr:.2f} ({significance})\")\n",
    "    else:\n",
    "        print(f\"{variable}: correlación = {corr:.2f}\")"
   ]
  },
  {
   "cell_type": "markdown",
   "id": "cd2b713f",
   "metadata": {},
   "source": [
    "Se agregó una comprobación de la hipótesis nula antes de imprimir los resultados de la prueba de correlación. La hipótesis nula establece que no existe una correlación entre las variables, y se rechaza si el **valor p es menor que 0,05**. "
   ]
  },
  {
   "cell_type": "markdown",
   "id": "72ebbb1f-dd59-41cb-98a5-bdb2c2f18c47",
   "metadata": {},
   "source": [
    "### - Rehacer el código de arriba pero usando monto_promedio"
   ]
  },
  {
   "cell_type": "code",
   "execution_count": null,
   "id": "b682996c-d901-48e2-bf98-8ba4970a66be",
   "metadata": {},
   "outputs": [],
   "source": []
  },
  {
   "cell_type": "markdown",
   "id": "dda653c3",
   "metadata": {},
   "source": [
    "## Conclusiones"
   ]
  },
  {
   "cell_type": "markdown",
   "id": "76400b46",
   "metadata": {},
   "source": [
    "Ninguna de las variables analizadas tiene una correlación significativa con las ventas de la empresa. En otras palabras, el análisis indica que no hay una relación clara entre las variables y las ventas de la empresa. \n",
    "\n",
    "Es importante tener en cuenta que la falta de correlación no necesariamente significa que las variables no son importantes para el negocio, ya que pueden haber otros factores que afecten las ventas que no se están considerando en este análisis. \n",
    "\n",
    "Por lo tanto, es necesario realizar más análisis y considerar otros factores para comprender mejor las tendencias de las ventas de la empresa."
   ]
  },
  {
   "cell_type": "markdown",
   "id": "c5dcc5f1",
   "metadata": {},
   "source": [
    "## Recomendaciones"
   ]
  },
  {
   "cell_type": "markdown",
   "id": "b42a0872",
   "metadata": {},
   "source": [
    "A partir de los resultados y las conclusiones de que ninguna de las variables analizadas tiene una correlación significativa con las ventas de la empresa, se pueden dar las siguientes recomendaciones:\n",
    "\n",
    "* *Ampliar el análisis*: Es importante considerar que el análisis realizado solo incluyó un conjunto limitado de variables y no consideró otros factores importantes que podrían estar influyendo en las ventas de la empresa. Se recomienda realizar un análisis más amplio e incluir otras variables relevantes que puedan tener un impacto en las ventas, como la satisfacción del cliente, la calidad de los productos, la competencia en el mercado, entre otros.\n",
    "\n",
    "* *Realizar encuestas a los clientes*: Realizar encuestas a los clientes puede ser una buena manera de obtener información sobre los factores que los motivan a comprar y los aspectos que consideran importantes al momento de realizar una compra. Esta información puede ayudar a la empresa a identificar áreas de oportunidad y mejorar su estrategia de ventas.\n",
    "\n",
    "* *Realizar análisis de la competencia*: Analizar a la competencia puede ser útil para entender mejor el mercado y conocer las tendencias del mismo. Además, puede ayudar a la empresa a identificar estrategias exitosas de la competencia que puedan ser aplicables a su negocio.\n",
    "\n",
    "* *Implementar estrategias de marketing*: Aunque las variables analizadas no mostraron una correlación significativa con las ventas, implementar estrategias de marketing puede ser útil para incrementar la exposición de la empresa y atraer a nuevos clientes. Las estrategias de marketing pueden incluir publicidad en línea, redes sociales, promociones y descuentos, entre otros."
   ]
  }
 ],
 "metadata": {
  "kernelspec": {
   "display_name": "Python 3 (ipykernel)",
   "language": "python",
   "name": "python3"
  },
  "language_info": {
   "codemirror_mode": {
    "name": "ipython",
    "version": 3
   },
   "file_extension": ".py",
   "mimetype": "text/x-python",
   "name": "python",
   "nbconvert_exporter": "python",
   "pygments_lexer": "ipython3",
   "version": "3.11.9"
  }
 },
 "nbformat": 4,
 "nbformat_minor": 5
}
