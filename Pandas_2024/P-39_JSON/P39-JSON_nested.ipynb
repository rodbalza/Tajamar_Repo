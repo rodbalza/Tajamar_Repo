{
 "cells": [
  {
   "cell_type": "markdown",
   "id": "587de2e5-78d9-4ed3-86eb-a90c318d1e09",
   "metadata": {},
   "source": [
    "# Practica 39 - Operaciones con pandas sobre un 'json nested'"
   ]
  },
  {
   "cell_type": "markdown",
   "id": "bb882a28-7d6d-4e49-ba62-891a6022554b",
   "metadata": {},
   "source": [
    "## Analizar con pandas el archivo anidado `companies.json`"
   ]
  },
  {
   "cell_type": "markdown",
   "id": "aa73ac8b-4ee6-4313-8815-80feb23a0477",
   "metadata": {},
   "source": [
    "### Rehacer los códigos del notebook `JSON_Limpiar.ipynb` a partir de la `Sección 2- Análisis JSON anidado con Pandas` Desde la celda de código 25.\n",
    "- Añadir algunos cálculos de estadísticas descriptivas básicas (todos los que ud. quiera) sobre el dataframe final y guardar en otro dataframe dichos cálculos estádisticos. De forma opcional añada algunos 'plots' con matplotlib si quiere."
   ]
  },
  {
   "cell_type": "code",
   "execution_count": null,
   "id": "83e7b995-06aa-4f0f-b72d-bc99ee3d0063",
   "metadata": {},
   "outputs": [],
   "source": []
  }
 ],
 "metadata": {
  "kernelspec": {
   "display_name": "Python 3 (ipykernel)",
   "language": "python",
   "name": "python3"
  },
  "language_info": {
   "codemirror_mode": {
    "name": "ipython",
    "version": 3
   },
   "file_extension": ".py",
   "mimetype": "text/x-python",
   "name": "python",
   "nbconvert_exporter": "python",
   "pygments_lexer": "ipython3",
   "version": "3.11.9"
  }
 },
 "nbformat": 4,
 "nbformat_minor": 5
}
