{
 "cells": [
  {
   "cell_type": "markdown",
   "id": "dde46f40-de97-4bb2-af0e-2591328cdc30",
   "metadata": {},
   "source": [
    "# Practica 40 Limpieza de datos con pandas sobre archivos JSON  \n",
    "## Responder las preguntas propuestas.  \n",
    "### Aquellas preguntas que ya están respondidas debe explicar el código."
   ]
  },
  {
   "cell_type": "markdown",
   "id": "4b88fc2e-d331-4885-bf86-d01e5728002a",
   "metadata": {},
   "source": [
    "**El archivo JSON `allcandidatenewssample.json` contiene información sobre noticias y artículos relacionados con varias figuras políticas y eventos de campaña. Cada entrada en el JSON representa un artículo o noticia y contiene los siguientes campos:**\n",
    "\n",
    "`title`: El título del artículo.  \n",
    "\n",
    "`url`: La URL del artículo.  \n",
    "\n",
    "`source`: La fuente del artículo, es decir, el medio de comunicación que lo publicó.  \n",
    "\n",
    "`time`: La hora o tiempo relativo en que se publicó el artículo.  \n",
    "\n",
    "`date`: La fecha de publicación del artículo en formato de marca de tiempo (timestamp).  \n",
    "\n",
    "`query`: El tema o figura política relacionada con el artículo.  \n",
    "\n",
    "`story_position`: La posición de la historia (en una lista de noticias o resultados).  \n",
    "\n",
    "`panel_position`: La posición en un panel (en la presentación en una página web).  \n",
    "\n",
    "`domain`: El dominio de la fuente del artículo.  \n",
    "\n",
    "`category`: La categoría del artículo.  \n",
    "\n",
    "**Este archivo almacena metadatos sobre varios artículos de noticias políticos, permitiendo análisis sobre la cobertura mediática, la frecuencia de artículos sobre ciertos temas o figuras políticas, y la distribución de fuentes de noticias.**\n"
   ]
  },
  {
   "cell_type": "code",
   "execution_count": 1,
   "id": "bc9b2baf-0a0b-4324-8c45-5afac41ad554",
   "metadata": {},
   "outputs": [],
   "source": [
    "import pandas as pd\n",
    "import numpy as np\n",
    "import json\n",
    "import pprint\n",
    "import matplotlib as plt\n",
    "from collections import Counter"
   ]
  },
  {
   "cell_type": "markdown",
   "id": "b02e9bb4-a065-4fbb-b1b5-898e8e50970b",
   "metadata": {},
   "source": [
    "## Análisis con Python clásico  \n",
    "**Explicar aquellos códigos cuyas preguntas que ya están resueltas**"
   ]
  },
  {
   "cell_type": "markdown",
   "id": "4297b27c-01df-4a3d-aa25-12285ba3e473",
   "metadata": {},
   "source": [
    "### Cargar los datos JSON y buscar posibles problemas  \n",
    "**Utilice el método `json.load` para devolver datos sobre noticias sobre candidatos políticos. `load` devuelve una lista de diccionarios**"
   ]
  },
  {
   "cell_type": "code",
   "execution_count": 17,
   "id": "9ce5ef48-07a1-431e-8d25-9035f805c5db",
   "metadata": {},
   "outputs": [],
   "source": [
    "with open('allcandidatenewssample.json') as f:\n",
    "  candidatenews = json.load(f)"
   ]
  },
  {
   "cell_type": "markdown",
   "id": "7ca2982d-9612-4aa3-8ddc-fe1d7b6a6291",
   "metadata": {},
   "source": [
    "### Utilice `len` para obtener el tamaño de la lista, que en este caso es el número total de noticias. (Cada elemento de la lista es un diccionario con claves para el título, la fuente, etc., y sus respectivos valores)."
   ]
  },
  {
   "cell_type": "code",
   "execution_count": 18,
   "id": "898d6cce-9a19-4a78-80a2-e0b5f8dd79a5",
   "metadata": {},
   "outputs": [
    {
     "data": {
      "text/plain": [
       "60000"
      ]
     },
     "execution_count": 18,
     "metadata": {},
     "output_type": "execute_result"
    }
   ],
   "source": [
    "len(candidatenews)"
   ]
  },
  {
   "cell_type": "markdown",
   "id": "3f9ff1e0-ce0d-4156-992c-9ea14a6573ff",
   "metadata": {},
   "source": [
    "### Utiliza pprint para mostrar los dos primeros diccionarios:"
   ]
  },
  {
   "cell_type": "code",
   "execution_count": 19,
   "id": "ec4fcfb0-0c91-4fcd-b751-a93c3299a45c",
   "metadata": {},
   "outputs": [
    {
     "name": "stdout",
     "output_type": "stream",
     "text": [
      "[{'date': '2019-12-25 10:00:00',\n",
      "  'domain': 'www.nbcnews.com',\n",
      "  'panel_position': 1,\n",
      "  'query': 'Michael Bloomberg',\n",
      "  'source': 'NBC News',\n",
      "  'story_position': 6,\n",
      "  'time': '18 hours ago',\n",
      "  'title': 'Bloomberg cuts ties with company using prison inmates to make '\n",
      "           'campaign calls',\n",
      "  'url': 'https://www.nbcnews.com/politics/2020-election/bloomberg-cuts-ties-company-using-prison-inmates-make-campaign-calls-n1106971'},\n",
      " {'date': '2019-11-09 08:00:00',\n",
      "  'domain': 'www.townandcountrymag.com',\n",
      "  'panel_position': 1,\n",
      "  'query': 'Amy Klobuchar',\n",
      "  'source': 'Town & Country Magazine',\n",
      "  'story_position': 3,\n",
      "  'time': '18 hours ago',\n",
      "  'title': \"Democratic Candidates React to Michael Bloomberg's Potential Run\",\n",
      "  'url': 'https://www.townandcountrymag.com/society/politics/a29739854/michael-bloomberg-democratic-candidates-campaign-reactions/'}]\n"
     ]
    }
   ],
   "source": [
    "pprint.pprint(candidatenews[0:2]) "
   ]
  },
  {
   "cell_type": "markdown",
   "id": "08477db0-754b-4cb1-bd3e-f11a766c3769",
   "metadata": {},
   "source": [
    "### Obtenga el valor de la clave de origen para el primer elemento de la lista:"
   ]
  },
  {
   "cell_type": "code",
   "execution_count": 20,
   "id": "21a3341b-0906-4c4a-b4f3-65bebf45132c",
   "metadata": {},
   "outputs": [
    {
     "name": "stdout",
     "output_type": "stream",
     "text": [
      "'NBC News'\n"
     ]
    }
   ],
   "source": [
    "pprint.pprint(candidatenews[0]['source'])"
   ]
  },
  {
   "cell_type": "markdown",
   "id": "448bf2f6-9bd1-48bc-92db-e45c69426d96",
   "metadata": {},
   "source": [
    "## Comprobar si existen diferencias en la estructura de los diccionarios.  \n",
    "### Utiliza `counter` para comprobar si hay algún diccionario en la lista con menos, o más, de los 9 pares `clave:valor` normales. Mira algunos de los diccionarios que casi no tienen datos (los que sólo tienen dos claves) antes de eliminarlos. "
   ]
  },
  {
   "cell_type": "code",
   "execution_count": 21,
   "id": "94bcfad5-23d8-48c1-9d11-d2a581775f87",
   "metadata": {},
   "outputs": [
    {
     "data": {
      "text/plain": [
       "Counter({9: 57202, 2: 2382, 10: 416})"
      ]
     },
     "execution_count": 21,
     "metadata": {},
     "output_type": "execute_result"
    }
   ],
   "source": [
    "Counter([len(item) for item in candidatenews])"
   ]
  },
  {
   "cell_type": "code",
   "execution_count": 22,
   "id": "19f7eb79-d499-4b3b-ba91-e57ef0755a7b",
   "metadata": {},
   "outputs": [
    {
     "name": "stdout",
     "output_type": "stream",
     "text": [
      "{'date': '2019-09-11 18:00:00', 'reason': 'Not collected'}\n"
     ]
    }
   ],
   "source": [
    "pprint.pprint(next(item for item in candidatenews if len(item)<9))"
   ]
  },
  {
   "cell_type": "code",
   "execution_count": 14,
   "id": "67ef144a-2c16-4299-aba4-2ecc341ead8c",
   "metadata": {},
   "outputs": [
    {
     "name": "stdout",
     "output_type": "stream",
     "text": [
      "{'category': 'Satire',\n",
      " 'date': '2019-08-21 04:00:00',\n",
      " 'domain': 'politics.theonion.com',\n",
      " 'panel_position': 1,\n",
      " 'query': 'John Hickenlooper',\n",
      " 'source': 'Politics | The Onion',\n",
      " 'story_position': 8,\n",
      " 'time': '4 days ago',\n",
      " 'title': '‘And Then There Were 23,’ Says Wayne Messam Crossing Out '\n",
      "          'Hickenlooper Photo \\n'\n",
      "          'In Elaborate Grid Of Rivals',\n",
      " 'url': 'https://politics.theonion.com/and-then-there-were-23-says-wayne-messam-crossing-ou-1837311060'}\n"
     ]
    }
   ],
   "source": [
    "pprint.pprint(next(item for item in candidatenews if len(item)>9))"
   ]
  },
  {
   "cell_type": "code",
   "execution_count": 12,
   "id": "e09d85c6-7828-4ffa-b1e2-86ca24c3e47c",
   "metadata": {},
   "outputs": [
    {
     "name": "stdout",
     "output_type": "stream",
     "text": [
      "[{'date': '2019-09-11 18:00:00', 'reason': 'Not collected'},\n",
      " {'date': '2019-07-24 00:00:00', 'reason': 'No Top stories'},\n",
      " {'date': '2019-08-19 20:00:00', 'reason': 'Not collected'},\n",
      " {'date': '2019-09-13 16:00:00', 'reason': 'Not collected'},\n",
      " {'date': '2019-10-16 20:00:00', 'reason': 'No Top stories'},\n",
      " {'date': '2019-10-17 18:00:00', 'reason': 'Not collected'},\n",
      " {'date': '2019-08-02 14:00:00', 'reason': 'Not collected'},\n",
      " {'date': '2019-05-27 12:00:00', 'reason': 'Not collected'},\n",
      " {'date': '2019-12-03 12:00:00', 'reason': 'No Top stories'},\n",
      " {'date': '2019-01-03 00:00:00', 'reason': 'No Top stories'}]\n"
     ]
    }
   ],
   "source": [
    "pprint.pprint([item for item in candidatenews if len(item)==2][0:10])"
   ]
  },
  {
   "cell_type": "markdown",
   "id": "e74d28a8-3216-406e-81c6-41f8614842b6",
   "metadata": {},
   "source": [
    "### Confirme que la lista de diccionarios restante tiene la longitud esperada: 60000-2382=57618:"
   ]
  },
  {
   "cell_type": "code",
   "execution_count": 42,
   "id": "173e80c4-a8a9-474c-a527-d76a304efb41",
   "metadata": {},
   "outputs": [
    {
     "data": {
      "text/plain": [
       "57618"
      ]
     },
     "execution_count": 42,
     "metadata": {},
     "output_type": "execute_result"
    }
   ],
   "source": [
    "candidatenews = [item for item in candidatenews if len(item)>2]\n",
    "len(candidatenews)"
   ]
  },
  {
   "cell_type": "markdown",
   "id": "0489ac9a-2b34-4a14-b406-cbe610bb966f",
   "metadata": {},
   "source": [
    "## Generar recuentos a partir de los datos JSON.  \n",
    "### Obtenga los diccionarios sólo para `Político` (un sitio web que cubre noticias políticas) y muestre un par de diccionarios:"
   ]
  },
  {
   "cell_type": "code",
   "execution_count": 43,
   "id": "b9df0e34-db1f-4223-952d-f0994af72aab",
   "metadata": {},
   "outputs": [
    {
     "data": {
      "text/plain": [
       "2732"
      ]
     },
     "execution_count": 43,
     "metadata": {},
     "output_type": "execute_result"
    }
   ],
   "source": [
    "politico = [item for item in candidatenews if item.get(\"source\") == \"Politico\"]\n",
    "len(politico)"
   ]
  },
  {
   "cell_type": "code",
   "execution_count": 29,
   "id": "b554c6b7-a8bd-480c-a2f0-54ffded50f8a",
   "metadata": {},
   "outputs": [
    {
     "name": "stdout",
     "output_type": "stream",
     "text": [
      "[{'date': '2019-05-18 18:00:00',\n",
      "  'domain': 'www.politico.com',\n",
      "  'panel_position': 1,\n",
      "  'query': 'Marianne Williamson',\n",
      "  'source': 'Politico',\n",
      "  'story_position': 7,\n",
      "  'time': '1 week ago',\n",
      "  'title': 'Marianne Williamson reaches donor threshold for Dem debates',\n",
      "  'url': 'https://www.politico.com/story/2019/05/09/marianne-williamson-2020-election-1315133'},\n",
      " {'date': '2018-12-27 06:00:00',\n",
      "  'domain': 'www.politico.com',\n",
      "  'panel_position': 1,\n",
      "  'query': 'Julian Castro',\n",
      "  'source': 'Politico',\n",
      "  'story_position': 1,\n",
      "  'time': '1 hour ago',\n",
      "  'title': \"O'Rourke and Castro on collision course in Texas\",\n",
      "  'url': 'https://www.politico.com/story/2018/12/27/orourke-julian-castro-collision-texas-election-1073720'}]\n"
     ]
    }
   ],
   "source": [
    "pprint.pprint(politico[0:2])"
   ]
  },
  {
   "cell_type": "markdown",
   "id": "36b96b64-69ab-4453-b609-42f6b52bdd6e",
   "metadata": {},
   "source": [
    "## Obtenga los datos de `source` y confirme que tienen la longitud prevista.  \n",
    "### Mostrar los primeros elementos de la nueva lista sources. "
   ]
  },
  {
   "cell_type": "code",
   "execution_count": 46,
   "id": "48fbe640-61b1-482e-b3f5-7a26b677c1a6",
   "metadata": {},
   "outputs": [
    {
     "data": {
      "text/plain": [
       "list"
      ]
     },
     "execution_count": 46,
     "metadata": {},
     "output_type": "execute_result"
    }
   ],
   "source": [
    "sources = [item.get('source') for item in candidatenews if 'source' in item]\n",
    "type(sources)"
   ]
  },
  {
   "cell_type": "code",
   "execution_count": 47,
   "id": "8b262e70-a7fd-46a7-bd15-2b23d2ed3ec6",
   "metadata": {},
   "outputs": [
    {
     "data": {
      "text/plain": [
       "57618"
      ]
     },
     "execution_count": 47,
     "metadata": {},
     "output_type": "execute_result"
    }
   ],
   "source": [
    "len(sources)"
   ]
  },
  {
   "cell_type": "code",
   "execution_count": 48,
   "id": "1d29601c-dc19-4c5b-9a82-99f9fb037cdc",
   "metadata": {},
   "outputs": [
    {
     "data": {
      "text/plain": [
       "['NBC News', 'Town & Country Magazine', 'TheHill', 'CNBC.com', 'Fox News']"
      ]
     },
     "execution_count": 48,
     "metadata": {},
     "output_type": "execute_result"
    }
   ],
   "source": [
    "sources[0:5]"
   ]
  },
  {
   "cell_type": "markdown",
   "id": "bbdd7cdb-3c24-45d4-aaf0-c611892b930b",
   "metadata": {},
   "source": [
    "### Generar un recuento de noticias por fuente y muestra las 10 fuentes más populares. Observe que las noticias de The Hill pueden tener TheHill (sin espacio) o The Hill como valor para la fuente :"
   ]
  },
  {
   "cell_type": "code",
   "execution_count": 49,
   "id": "10ebee15-d414-46a8-b0aa-8ba4c5d4a7a6",
   "metadata": {},
   "outputs": [
    {
     "name": "stdout",
     "output_type": "stream",
     "text": [
      "[('Fox News', 3530),\n",
      " ('CNN.com', 2750),\n",
      " ('Politico', 2732),\n",
      " ('TheHill', 2383),\n",
      " ('The New York Times', 1804),\n",
      " ('Washington Post', 1770),\n",
      " ('Washington Examiner', 1655),\n",
      " ('The Hill', 1342),\n",
      " ('New York Post', 1275),\n",
      " ('Vox', 941)]\n"
     ]
    }
   ],
   "source": [
    "pprint.pprint(Counter(sources).most_common(10))"
   ]
  },
  {
   "cell_type": "markdown",
   "id": "9144441f-8460-496f-bb52-81a215911f25",
   "metadata": {},
   "source": [
    "## Corrige cualquier error en los valores del diccionario."
   ]
  },
  {
   "cell_type": "markdown",
   "id": "a8b64c80-f242-4219-b904-95221c8c402d",
   "metadata": {},
   "source": [
    "### Corrige los valores de la 'source' `The Hill` . Observe que `The Hill` es ahora la fuente fuente más frecuente de noticias:"
   ]
  },
  {
   "cell_type": "code",
   "execution_count": 50,
   "id": "5ae82e48-e057-4a00-8cb2-ea883018919f",
   "metadata": {},
   "outputs": [
    {
     "name": "stdout",
     "output_type": "stream",
     "text": [
      "[('The Hill', 3725),\n",
      " ('Fox News', 3530),\n",
      " ('CNN.com', 2750),\n",
      " ('Politico', 2732),\n",
      " ('The New York Times', 1804),\n",
      " ('Washington Post', 1770),\n",
      " ('Washington Examiner', 1655),\n",
      " ('New York Post', 1275),\n",
      " ('Vox', 941),\n",
      " ('Breitbart', 799)]\n"
     ]
    }
   ],
   "source": [
    "for newsdict in candidatenews:\n",
    "    newsdict.update((k, \"The Hill\") for k, v in newsdict.items()\n",
    "                    if k == \"source\" and v == \"TheHill\")\n",
    "sources = [item.get('source') for item in candidatenews]\n",
    "pprint.pprint(Counter(sources).most_common(10))"
   ]
  },
  {
   "cell_type": "markdown",
   "id": "5228cd0d-00b7-4ee2-8a30-f60735f386ca",
   "metadata": {},
   "source": [
    "# Análisis del archivo json con Pandas"
   ]
  },
  {
   "cell_type": "markdown",
   "id": "c88b1741-bee0-4c90-a7f1-31511f07092f",
   "metadata": {},
   "source": [
    "## Crear un dataframe de Pandas  \n",
    "### 1- Pase los datos JSON al método pandas DataFrame."
   ]
  },
  {
   "cell_type": "code",
   "execution_count": null,
   "id": "210f6777-eec8-4a98-9e74-3a348ac2bfee",
   "metadata": {},
   "outputs": [],
   "source": []
  },
  {
   "cell_type": "markdown",
   "id": "7d0e0cb5-d6ed-4733-be83-f0d494372543",
   "metadata": {},
   "source": [
    "### 2- Convierta la columna date a un tipo de datos datetime:"
   ]
  },
  {
   "cell_type": "code",
   "execution_count": null,
   "id": "3d37f80a-2cb1-44b1-b9d2-46a92a522ede",
   "metadata": {},
   "outputs": [],
   "source": []
  },
  {
   "cell_type": "markdown",
   "id": "e2658412-2a61-46a4-aa00-db8b8c5483a4",
   "metadata": {},
   "source": [
    "### 3- Cambiar el nombre de la columna `date` por `storydate`:"
   ]
  },
  {
   "cell_type": "code",
   "execution_count": null,
   "id": "b6caea3f-eb98-4670-b173-c7c45784d9dd",
   "metadata": {},
   "outputs": [],
   "source": []
  },
  {
   "cell_type": "markdown",
   "id": "cc0ff694-e365-4b20-ba53-c0e354941d69",
   "metadata": {},
   "source": [
    "### 4- Cambiar el dtype de la columna `storydate` por `datetiem64[ns]`"
   ]
  },
  {
   "cell_type": "code",
   "execution_count": null,
   "id": "d6767a14-3d70-44a6-9c9f-a2c9236edf60",
   "metadata": {},
   "outputs": [],
   "source": []
  },
  {
   "cell_type": "markdown",
   "id": "866d5d33-d63d-4c20-be26-ffb2ac7d5672",
   "metadata": {},
   "source": [
    "### 5- Nuestre los tipos de datos"
   ]
  },
  {
   "cell_type": "code",
   "execution_count": null,
   "id": "95421805-e45c-4c6f-89f4-eccbb35426a3",
   "metadata": {},
   "outputs": [],
   "source": []
  },
  {
   "cell_type": "markdown",
   "id": "a9f8148f-3071-4c08-916e-bfb90e50f7de",
   "metadata": {},
   "source": [
    "### 6- Dimensiones del dataframe (shape)"
   ]
  },
  {
   "cell_type": "code",
   "execution_count": null,
   "id": "06dd5aa0-bea9-4c0f-9de0-ca5f180f55d0",
   "metadata": {},
   "outputs": [],
   "source": []
  },
  {
   "cell_type": "markdown",
   "id": "866b1499-f89e-4f46-bc6e-50008c064a32",
   "metadata": {},
   "source": [
    "### 7- Muestra las 10 fuentes (sources) más comunes en el DataFrame `candidatenewsdf` con pandas, junto con el número de veces que cada fuente aparece."
   ]
  },
  {
   "cell_type": "code",
   "execution_count": null,
   "id": "6a955a1e-2b08-4ddc-91c2-3fcde3bff2df",
   "metadata": {},
   "outputs": [],
   "source": []
  },
  {
   "cell_type": "markdown",
   "id": "7dc0bf1e-f44e-46d4-9c62-7c7705b1f8b4",
   "metadata": {},
   "source": [
    "### 8- Mostrar las primeras 5 filas del DataFrame"
   ]
  },
  {
   "cell_type": "code",
   "execution_count": null,
   "id": "382e6061-5d45-46fc-9a97-319201512207",
   "metadata": {},
   "outputs": [],
   "source": []
  },
  {
   "cell_type": "markdown",
   "id": "af64632f-8181-4fc2-82e8-cee96a001d93",
   "metadata": {},
   "source": [
    "### 9- Mostrar las ultimas 15 lineas del dataframe"
   ]
  },
  {
   "cell_type": "code",
   "execution_count": null,
   "id": "37c65174-5db1-4286-a7ee-38d7c667c3d8",
   "metadata": {},
   "outputs": [],
   "source": []
  },
  {
   "cell_type": "markdown",
   "id": "8451a6e4-a8cc-4827-b901-dbc9f690fad2",
   "metadata": {},
   "source": [
    "### 10- Filtrar los artículos donde la fuente (source) es \"Politico\""
   ]
  },
  {
   "cell_type": "code",
   "execution_count": null,
   "id": "2a728318-7074-4d1d-9dc4-6513e6b6dd76",
   "metadata": {},
   "outputs": [],
   "source": []
  },
  {
   "cell_type": "markdown",
   "id": "f6366fdf-0710-4959-bebe-382096d3be0e",
   "metadata": {},
   "source": [
    "### 11- Filtrar los artículos publicados después del 1 de enero de 2020"
   ]
  },
  {
   "cell_type": "code",
   "execution_count": null,
   "id": "f19bf13e-24b9-44d0-ab43-332744ecf8ec",
   "metadata": {},
   "outputs": [],
   "source": []
  },
  {
   "cell_type": "markdown",
   "id": "2b990907-70ed-438c-9498-4d6c639d7646",
   "metadata": {},
   "source": [
    "### 12- Filtrar y mostrar los artículos de \"CNN.com\""
   ]
  },
  {
   "cell_type": "code",
   "execution_count": null,
   "id": "987c4204-afa3-43de-a373-38f56b99a836",
   "metadata": {},
   "outputs": [],
   "source": []
  },
  {
   "cell_type": "markdown",
   "id": "74c91513-84eb-4db1-ab77-d62c019ad012",
   "metadata": {},
   "source": [
    "### 13- Contar los valores nulos en cada columna"
   ]
  },
  {
   "cell_type": "code",
   "execution_count": null,
   "id": "b768735b-c671-41f6-8ab4-052e4e5dc8c0",
   "metadata": {},
   "outputs": [],
   "source": []
  },
  {
   "cell_type": "markdown",
   "id": "fccc471f-b2bf-40ec-b6bd-f558a85dc9fa",
   "metadata": {},
   "source": [
    "### 14- Eliminar filas con valores nulos en la columna \"title\""
   ]
  },
  {
   "cell_type": "code",
   "execution_count": null,
   "id": "c86ef600-9c62-48d2-9487-49e9d0789e83",
   "metadata": {},
   "outputs": [],
   "source": []
  },
  {
   "cell_type": "markdown",
   "id": "dcc74f3f-50c3-4efc-aec0-04e4fdc51380",
   "metadata": {},
   "source": [
    "### 15- Rellenar valores nulos en la columna \"category\" con \"Unknown\""
   ]
  },
  {
   "cell_type": "markdown",
   "id": "81646487-02b0-498b-8c91-a3ac21962edf",
   "metadata": {},
   "source": [
    "### 16- Convertir la columna \"panel_position\" a tipo float"
   ]
  },
  {
   "cell_type": "code",
   "execution_count": null,
   "id": "a84f57e5-e374-4cd1-8d65-568928f8e54b",
   "metadata": {},
   "outputs": [],
   "source": []
  },
  {
   "cell_type": "markdown",
   "id": "7eac545f-e424-4ba6-bdd6-bdd2b1b8cd4d",
   "metadata": {},
   "source": [
    "### 17- Convertir la columna \"storydate\" a tipo string"
   ]
  },
  {
   "cell_type": "code",
   "execution_count": null,
   "id": "da5463fe-be4e-4c78-a874-4da5bf8cddca",
   "metadata": {},
   "outputs": [],
   "source": []
  },
  {
   "cell_type": "markdown",
   "id": "e0437ea4-c5cb-4e96-a172-cb53970a4367",
   "metadata": {},
   "source": [
    "### 18- Obtener la media de \"story_position\""
   ]
  },
  {
   "cell_type": "code",
   "execution_count": null,
   "id": "1748026c-5bf7-4a2b-afb6-f54008948274",
   "metadata": {},
   "outputs": [],
   "source": []
  },
  {
   "cell_type": "markdown",
   "id": "c24360c6-0d79-4c95-bf3c-b2db59bd67c8",
   "metadata": {},
   "source": [
    "### 19- Obtener la desviación estándar de \"story_position\""
   ]
  },
  {
   "cell_type": "code",
   "execution_count": null,
   "id": "d31bac5d-11cc-4d87-b5c6-01032cd2e652",
   "metadata": {},
   "outputs": [],
   "source": []
  },
  {
   "cell_type": "markdown",
   "id": "393903c4-cf66-42ae-9856-106e9de7c040",
   "metadata": {},
   "source": [
    "### 20- Obtener la cantidad de artículos por fuente (source)"
   ]
  },
  {
   "cell_type": "code",
   "execution_count": null,
   "id": "af1682a5-df83-4124-a644-cd9f8dfbb332",
   "metadata": {},
   "outputs": [],
   "source": []
  },
  {
   "cell_type": "markdown",
   "id": "8a0678f3-c20a-424b-8fec-65b364dc9dfa",
   "metadata": {},
   "source": [
    "### 21- Obtener el valor mínimo y máximo de \"story_position\""
   ]
  },
  {
   "cell_type": "code",
   "execution_count": null,
   "id": "418e7a8f-a0ac-4abe-9512-5f32c7bc69a7",
   "metadata": {},
   "outputs": [],
   "source": []
  },
  {
   "cell_type": "code",
   "execution_count": null,
   "id": "429bde27-6c0d-4cb8-b2c4-22bed934f54a",
   "metadata": {},
   "outputs": [],
   "source": []
  },
  {
   "cell_type": "markdown",
   "id": "0cc0668a-2cf9-49e3-8df0-b172b0a81521",
   "metadata": {},
   "source": [
    "### 22- Agrupar por la columna \"source\" y contar el número de artículos"
   ]
  },
  {
   "cell_type": "code",
   "execution_count": 117,
   "id": "2dcd3e93-12ca-4d4a-af52-a2a790f1013b",
   "metadata": {},
   "outputs": [
    {
     "name": "stdout",
     "output_type": "stream",
     "text": [
      "source\n",
      "                          2\n",
      "+972 Magazine             1\n",
      "1010 Wins - Radio.com    25\n",
      "1011 News                 1\n",
      "1011Now                   1\n",
      "                         ..\n",
      "theGrio                  31\n",
      "uPolitics                11\n",
      "vtdigger.org              1\n",
      "wgbh.org                  2\n",
      "whotv.com                92\n",
      "Length: 1723, dtype: int64\n"
     ]
    }
   ],
   "source": [
    "articles_by_source = candidatenewsdf.groupby('source').size()\n",
    "print(articles_by_source)"
   ]
  },
  {
   "cell_type": "markdown",
   "id": "da825d3b-5907-4021-aa9b-d53542c5aea2",
   "metadata": {},
   "source": [
    "### 23- Crear una tabla pivot para analizar la posición de los artículos por fuente"
   ]
  },
  {
   "cell_type": "code",
   "execution_count": 118,
   "id": "768c8593-746e-4d9e-a635-73e5e0771c6e",
   "metadata": {},
   "outputs": [
    {
     "name": "stdout",
     "output_type": "stream",
     "text": [
      "                       story_position\n",
      "source                               \n",
      "                                 4.50\n",
      "+972 Magazine                    7.00\n",
      "1010 Wins - Radio.com            7.52\n",
      "1011 News                        2.00\n",
      "1011Now                          2.00\n"
     ]
    }
   ],
   "source": [
    "pivot_table = candidatenewsdf.pivot_table(values='story_position', index='source', aggfunc='mean')\n",
    "print(pivot_table.head())"
   ]
  },
  {
   "cell_type": "markdown",
   "id": "860bd510-80ff-4ade-b4c3-751e0f0252d4",
   "metadata": {},
   "source": [
    "### 24- Agrupar por \"storydate\" y contar el número de artículos por día"
   ]
  },
  {
   "cell_type": "code",
   "execution_count": 119,
   "id": "3f9ea0b8-0d5a-4ad5-b23e-86a715495c0b",
   "metadata": {},
   "outputs": [
    {
     "name": "stdout",
     "output_type": "stream",
     "text": [
      "storydate\n",
      "2018-12-16 00:00:00    20\n",
      "2018-12-16 06:00:00    21\n",
      "2018-12-16 12:00:00    15\n",
      "2018-12-16 18:00:00    18\n",
      "2018-12-17 00:00:00    16\n",
      "2018-12-17 06:00:00    15\n",
      "2018-12-17 12:00:00    18\n",
      "2018-12-17 18:00:00    17\n",
      "2018-12-18 00:00:00    24\n",
      "2018-12-18 06:00:00    15\n",
      "dtype: int64\n"
     ]
    }
   ],
   "source": [
    "articles_by_date = candidatenewsdf.groupby('storydate').size()\n",
    "print(articles_by_date.head(10))"
   ]
  },
  {
   "cell_type": "markdown",
   "id": "fa411ca3-29ef-480c-a6d2-bad00c551f7e",
   "metadata": {},
   "source": [
    "### 25- Graficar el número de artículos por las 10 principales fuentes (explicar código)"
   ]
  },
  {
   "cell_type": "code",
   "execution_count": 121,
   "id": "25c4c8dc-8fd3-483d-aab5-c609ca8fc114",
   "metadata": {},
   "outputs": [
    {
     "data": {
      "image/png": "[encoded data removed]",
      "text/plain": [
       "<Figure size 640x480 with 1 Axes>"
      ]
     },
     "metadata": {},
     "output_type": "display_data"
    }
   ],
   "source": [
    "import matplotlib.pyplot as plt\n",
    "top_sources = candidatenewsdf['source'].value_counts().head(10)\n",
    "top_sources.plot(kind='bar')\n",
    "plt.title('Top 10 Fuentes con más Artículos')\n",
    "plt.xlabel('Fuente')\n",
    "plt.ylabel('Número de Artículos')\n",
    "plt.show()"
   ]
  },
  {
   "cell_type": "markdown",
   "id": "b44beccd-ad79-4190-85ea-f408d7fd1ece",
   "metadata": {},
   "source": [
    "### 26- Graficar la distribución de \"story_position\""
   ]
  },
  {
   "cell_type": "code",
   "execution_count": 122,
   "id": "b6457de8-8df0-4573-bcc4-ad5de914596a",
   "metadata": {},
   "outputs": [
    {
     "data": {
      "image/png": "[encoded data removed]",
      "text/plain": [
       "<Figure size 640x480 with 1 Axes>"
      ]
     },
     "metadata": {},
     "output_type": "display_data"
    }
   ],
   "source": [
    "candidatenewsdf['story_position'].plot(kind='hist', bins=20)\n",
    "plt.title('Distribución de Story Position')\n",
    "plt.xlabel('Story Position')\n",
    "plt.ylabel('Frecuencia')\n",
    "plt.show()"
   ]
  },
  {
   "cell_type": "markdown",
   "id": "ac959ea8-1c1a-4936-92b0-dd7f37b73206",
   "metadata": {},
   "source": [
    "### 27- Convertir la columna \"storydate\" a formato datetime"
   ]
  },
  {
   "cell_type": "code",
   "execution_count": null,
   "id": "7e051dd4-24d3-4c90-ad59-0cdeb0e37c58",
   "metadata": {},
   "outputs": [],
   "source": []
  },
  {
   "cell_type": "markdown",
   "id": "874bbd0c-dd24-46a6-ae44-c11a5cd7022a",
   "metadata": {},
   "source": [
    "### 28- Crear una nueva columna con el año de \"storydate\""
   ]
  },
  {
   "cell_type": "code",
   "execution_count": null,
   "id": "04acb0cf-3e74-4316-837f-674d4a7f6a0e",
   "metadata": {},
   "outputs": [],
   "source": []
  },
  {
   "cell_type": "markdown",
   "id": "8f861ddf-796c-42ee-84ff-afc71f0c5118",
   "metadata": {},
   "source": [
    "### 29- Crear una nueva columna con el mes de \"storydate\""
   ]
  },
  {
   "cell_type": "code",
   "execution_count": null,
   "id": "dc9570ed-549e-4061-b7e2-9aaafae5ce41",
   "metadata": {},
   "outputs": [],
   "source": []
  },
  {
   "cell_type": "markdown",
   "id": "4ec88744-8cab-4dc9-bc9d-95024ad39ca0",
   "metadata": {},
   "source": [
    "### 30- Convertir el DataFrame filtrado de \"CNN.com\" a formato JSON"
   ]
  },
  {
   "cell_type": "code",
   "execution_count": null,
   "id": "536ee3ba-d828-44cf-98f3-6e52eabd0484",
   "metadata": {},
   "outputs": [],
   "source": []
  },
  {
   "cell_type": "markdown",
   "id": "b5d22747-ce83-4cfc-a685-264497d6a66d",
   "metadata": {},
   "source": [
    "### 31- Exportar el DataFrame filtrado de \"CNN.com\" a un archivo CSV"
   ]
  },
  {
   "cell_type": "code",
   "execution_count": null,
   "id": "fbf617f9-eb4f-42c3-9052-014a6d5bbb36",
   "metadata": {},
   "outputs": [],
   "source": []
  },
  {
   "cell_type": "markdown",
   "id": "d89c2b86-c3ee-4e42-8659-d0e4a152739a",
   "metadata": {},
   "source": [
    "### 32- Mostrar los artículos con la mayor \"story_position\" por fuente"
   ]
  },
  {
   "cell_type": "code",
   "execution_count": null,
   "id": "afd013c6-af64-4a81-a399-ed345d5c87d1",
   "metadata": {},
   "outputs": [],
   "source": []
  },
  {
   "cell_type": "markdown",
   "id": "848ea42b-9866-4835-95f1-e19c37c40ee1",
   "metadata": {},
   "source": [
    "### 33- Calcular el resumen estadístico de la columna \"story_position\""
   ]
  },
  {
   "cell_type": "code",
   "execution_count": null,
   "id": "1516d707-5111-4d2e-976f-5071290f9c00",
   "metadata": {},
   "outputs": [],
   "source": []
  },
  {
   "cell_type": "markdown",
   "id": "c41302a7-4ec0-4d49-8be0-ce5e089912b6",
   "metadata": {},
   "source": [
    "### 34- Calcular el conteo de valores únicos en la columna \"query\""
   ]
  },
  {
   "cell_type": "code",
   "execution_count": null,
   "id": "608be863-7dad-4da1-bfef-1ebedabf9081",
   "metadata": {},
   "outputs": [],
   "source": []
  },
  {
   "cell_type": "markdown",
   "id": "c80f167b-7c98-49e2-ad8f-e313e6e05dfe",
   "metadata": {},
   "source": [
    "### 35- Calcular o contar los valores faltantes de cada columna"
   ]
  },
  {
   "cell_type": "code",
   "execution_count": null,
   "id": "e3926dea-8817-4d82-bac5-0c77ce32136c",
   "metadata": {},
   "outputs": [],
   "source": []
  },
  {
   "cell_type": "markdown",
   "id": "1b67425a-bc94-49d2-ac27-31f20d2bba40",
   "metadata": {},
   "source": [
    "### 36- Filtrar filas donde falta algún dato"
   ]
  },
  {
   "cell_type": "code",
   "execution_count": null,
   "id": "4895a7d5-1180-4efd-88d3-45f1ad66e67c",
   "metadata": {},
   "outputs": [],
   "source": []
  },
  {
   "cell_type": "markdown",
   "id": "7ae5f300-8c3c-4d17-bcc8-61245127a551",
   "metadata": {},
   "source": [
    "### 37- Borrar la columna `category` del dataframe y guardarlo en otro dataframe"
   ]
  },
  {
   "cell_type": "code",
   "execution_count": null,
   "id": "3d251c8c-15ef-4de9-bd70-27559ce4df78",
   "metadata": {},
   "outputs": [],
   "source": []
  },
  {
   "cell_type": "markdown",
   "id": "6e2ef894-1402-472a-b9af-6bc6adf3ed40",
   "metadata": {},
   "source": [
    "### 38- Filtrar filas donde la columna 'source' está vacía o es nula"
   ]
  },
  {
   "cell_type": "code",
   "execution_count": null,
   "id": "b140d033-22ab-47c7-b5e0-fece69099961",
   "metadata": {},
   "outputs": [],
   "source": []
  },
  {
   "cell_type": "markdown",
   "id": "f1258def-67d2-4b91-b554-75c67311e75b",
   "metadata": {},
   "source": [
    "### 39-  Eliminar filas donde la columna 'source' está vacía o es nula"
   ]
  },
  {
   "cell_type": "code",
   "execution_count": null,
   "id": "ef86fa6f-9397-46f3-b3da-dafb395f3d72",
   "metadata": {},
   "outputs": [],
   "source": []
  },
  {
   "cell_type": "markdown",
   "id": "021aa80e-7df7-4c11-a651-988f6acb3251",
   "metadata": {},
   "source": [
    "### 40- Calcular la media de la columna story_position para cada query"
   ]
  },
  {
   "cell_type": "code",
   "execution_count": null,
   "id": "a455d39d-4485-4c58-83dc-fbcd36eed609",
   "metadata": {},
   "outputs": [],
   "source": []
  }
 ],
 "metadata": {
  "kernelspec": {
   "display_name": "Python 3 (ipykernel)",
   "language": "python",
   "name": "python3"
  },
  "language_info": {
   "codemirror_mode": {
    "name": "ipython",
    "version": 3
   },
   "file_extension": ".py",
   "mimetype": "text/x-python",
   "name": "python",
   "nbconvert_exporter": "python",
   "pygments_lexer": "ipython3",
   "version": "3.11.9"
  }
 },
 "nbformat": 4,
 "nbformat_minor": 5
}
