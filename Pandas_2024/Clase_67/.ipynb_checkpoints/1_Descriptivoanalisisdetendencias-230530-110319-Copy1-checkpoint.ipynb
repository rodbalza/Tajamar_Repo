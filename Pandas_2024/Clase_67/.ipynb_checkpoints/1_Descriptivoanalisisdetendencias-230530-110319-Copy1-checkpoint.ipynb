{
 "cells": [
  {
   "cell_type": "markdown",
   "id": "1f183e6d",
   "metadata": {},
   "source": [
    "# Análisis Descriptivo: Análisis de Tendencias de las ventas del negocio"
   ]
  },
  {
   "cell_type": "markdown",
   "id": "845a8c2e",
   "metadata": {},
   "source": [
    "El análisis de tendencia es una técnica estadística que se utiliza para identificar patrones o tendencias en un conjunto de datos a lo largo del tiempo. El análisis de tendencia es utilizado para predecir la dirección futura del comportamiento de los datos basándose en su comportamiento pasado."
   ]
  },
  {
   "cell_type": "markdown",
   "id": "ce99ea90",
   "metadata": {},
   "source": [
    "### Carga de las librerías de pyhton necesarias"
   ]
  },
  {
   "cell_type": "code",
   "execution_count": 1,
   "id": "6435daaf",
   "metadata": {},
   "outputs": [],
   "source": [
    "import pyodbc\n",
    "import pandas as pd\n",
    "import numpy as np\n",
    "import matplotlib.pyplot as plt\n",
    "import seaborn as sns\n",
    "\n",
    "plt.rcParams['figure.figsize'] = [12, 8]\n",
    "\n",
    "pd.options.display.float_format = '{:.2f}'.format"
   ]
  },
  {
   "cell_type": "markdown",
   "id": "da98587a",
   "metadata": {},
   "source": [
    "Las librerías de Python son conjuntos de código predefinido que se utilizan para realizar tareas específicas en el lenguaje de programación Python.\n",
    "Las librerías se utilizan para diferentes propósitos, como manipulación de datos, análisis de datos, visualización de datos, aprendizaje automático, desarrollo web, entre otros. "
   ]
  },
  {
   "cell_type": "markdown",
   "id": "90dc0f21",
   "metadata": {},
   "source": [
    "### Conexión a SQL Server y extracción de los datos"
   ]
  },
  {
   "cell_type": "code",
   "execution_count": 2,
   "id": "e4087e9c",
   "metadata": {},
   "outputs": [],
   "source": [
    "conn_str = pyodbc.connect('Driver={SQL Server};' 'Server=LENOVO\\SQLEXPRESS;''Database=AdventureWorks2019;''Trusted_Connection=yes;')\n",
    "input_query = '''select\n",
    "\t year(t1.OrderDate) as 'año', \n",
    "\t month(t1.OrderDate) as 'mes',\n",
    "\t sum(t1.TotalDue) as 'ventas'\n",
    "from Sales.SalesOrderHeader as t1\n",
    "\tgroup by year(t1.OrderDate), month(t1.OrderDate) \n",
    "\torder by year(t1.OrderDate), month(t1.OrderDate)'''\n",
    "\n",
    "ventas = pd.read_sql(input_query, conn_str)"
   ]
  },
  {
   "cell_type": "markdown",
   "id": "f0b853a6",
   "metadata": {},
   "source": [
    "### Exploración del dataset extraído"
   ]
  },
  {
   "cell_type": "markdown",
   "id": "4c9d4057",
   "metadata": {},
   "source": [
    "Mostramos las dimensiones del dataset y las variables que contiene que están relacionadas con las ventas y su ubicación temporal en mes y año."
   ]
  },
  {
   "cell_type": "code",
   "execution_count": 3,
   "id": "590df5e8",
   "metadata": {},
   "outputs": [
    {
     "data": {
      "text/plain": [
       "(38, 3)"
      ]
     },
     "execution_count": 3,
     "metadata": {},
     "output_type": "execute_result"
    }
   ],
   "source": [
    "ventas.shape"
   ]
  },
  {
   "cell_type": "code",
   "execution_count": 4,
   "id": "c157a990",
   "metadata": {},
   "outputs": [
    {
     "data": {
      "text/plain": [
       "Index(['año', 'mes', 'ventas'], dtype='object')"
      ]
     },
     "execution_count": 4,
     "metadata": {},
     "output_type": "execute_result"
    }
   ],
   "source": [
    "ventas.columns"
   ]
  },
  {
   "cell_type": "code",
   "execution_count": 6,
   "id": "a4dadc6e",
   "metadata": {},
   "outputs": [
    {
     "data": {
      "text/html": [
       "<div>\n",
       "<style scoped>\n",
       "    .dataframe tbody tr th:only-of-type {\n",
       "        vertical-align: middle;\n",
       "    }\n",
       "\n",
       "    .dataframe tbody tr th {\n",
       "        vertical-align: top;\n",
       "    }\n",
       "\n",
       "    .dataframe thead th {\n",
       "        text-align: right;\n",
       "    }\n",
       "</style>\n",
       "<table border=\"1\" class=\"dataframe\">\n",
       "  <thead>\n",
       "    <tr style=\"text-align: right;\">\n",
       "      <th></th>\n",
       "      <th>año</th>\n",
       "      <th>mes</th>\n",
       "      <th>ventas</th>\n",
       "    </tr>\n",
       "  </thead>\n",
       "  <tbody>\n",
       "    <tr>\n",
       "      <th>0</th>\n",
       "      <td>2011</td>\n",
       "      <td>5</td>\n",
       "      <td>567020.95</td>\n",
       "    </tr>\n",
       "    <tr>\n",
       "      <th>1</th>\n",
       "      <td>2011</td>\n",
       "      <td>6</td>\n",
       "      <td>507096.47</td>\n",
       "    </tr>\n",
       "    <tr>\n",
       "      <th>2</th>\n",
       "      <td>2011</td>\n",
       "      <td>7</td>\n",
       "      <td>2292182.88</td>\n",
       "    </tr>\n",
       "    <tr>\n",
       "      <th>3</th>\n",
       "      <td>2011</td>\n",
       "      <td>8</td>\n",
       "      <td>2800576.17</td>\n",
       "    </tr>\n",
       "    <tr>\n",
       "      <th>4</th>\n",
       "      <td>2011</td>\n",
       "      <td>9</td>\n",
       "      <td>554791.61</td>\n",
       "    </tr>\n",
       "    <tr>\n",
       "      <th>5</th>\n",
       "      <td>2011</td>\n",
       "      <td>10</td>\n",
       "      <td>5156269.53</td>\n",
       "    </tr>\n",
       "    <tr>\n",
       "      <th>6</th>\n",
       "      <td>2011</td>\n",
       "      <td>11</td>\n",
       "      <td>815313.02</td>\n",
       "    </tr>\n",
       "    <tr>\n",
       "      <th>7</th>\n",
       "      <td>2011</td>\n",
       "      <td>12</td>\n",
       "      <td>1462448.90</td>\n",
       "    </tr>\n",
       "    <tr>\n",
       "      <th>8</th>\n",
       "      <td>2012</td>\n",
       "      <td>1</td>\n",
       "      <td>4458337.44</td>\n",
       "    </tr>\n",
       "    <tr>\n",
       "      <th>9</th>\n",
       "      <td>2012</td>\n",
       "      <td>2</td>\n",
       "      <td>1649051.90</td>\n",
       "    </tr>\n",
       "  </tbody>\n",
       "</table>\n",
       "</div>"
      ],
      "text/plain": [
       "    año  mes     ventas\n",
       "0  2011    5  567020.95\n",
       "1  2011    6  507096.47\n",
       "2  2011    7 2292182.88\n",
       "3  2011    8 2800576.17\n",
       "4  2011    9  554791.61\n",
       "5  2011   10 5156269.53\n",
       "6  2011   11  815313.02\n",
       "7  2011   12 1462448.90\n",
       "8  2012    1 4458337.44\n",
       "9  2012    2 1649051.90"
      ]
     },
     "execution_count": 6,
     "metadata": {},
     "output_type": "execute_result"
    }
   ],
   "source": [
    "ventas.head(10)"
   ]
  },
  {
   "cell_type": "markdown",
   "id": "5b4bc3ae",
   "metadata": {},
   "source": [
    "## Visualización gráfica de los datos"
   ]
  },
  {
   "cell_type": "markdown",
   "id": "e6947453",
   "metadata": {},
   "source": [
    "### Gráfico de barras de las ventas por mes"
   ]
  },
  {
   "cell_type": "markdown",
   "id": "39116fc4",
   "metadata": {},
   "source": [
    "Se realiza una exploración visual de curva que dibuja las ventas agrupadas por mes."
   ]
  },
  {
   "cell_type": "code",
   "execution_count": 7,
   "id": "4bc6103d",
   "metadata": {},
   "outputs": [
    {
     "data": {
      "image/png": "[encoded data removed]",
      "text/plain": [
       "<Figure size 864x576 with 1 Axes>"
      ]
     },
     "metadata": {
      "needs_background": "light"
     },
     "output_type": "display_data"
    }
   ],
   "source": [
    "ventas_por_mes = ventas.groupby('mes')['ventas'].sum().reset_index()\n",
    "sns.barplot(x='mes', y='ventas', data=ventas_por_mes)\n",
    "plt.title('Ventas por mes')\n",
    "plt.show()"
   ]
  },
  {
   "cell_type": "markdown",
   "id": "fd85d5fb",
   "metadata": {},
   "source": [
    "### Gráfico de línea de las ventas por año"
   ]
  },
  {
   "cell_type": "markdown",
   "id": "d49f891b",
   "metadata": {},
   "source": [
    "Se observa la curva que dibuja la evolución de las ventas agrupadas por año."
   ]
  },
  {
   "cell_type": "code",
   "execution_count": 8,
   "id": "edf27161",
   "metadata": {},
   "outputs": [
    {
     "data": {
      "image/png": "[encoded data removed]",
      "text/plain": [
       "<Figure size 864x576 with 1 Axes>"
      ]
     },
     "metadata": {
      "needs_background": "light"
     },
     "output_type": "display_data"
    }
   ],
   "source": [
    "ventas_por_año = ventas.groupby('año')['ventas'].sum().reset_index()\n",
    "plt.plot(ventas_por_año['año'], ventas_por_año['ventas'])\n",
    "plt.title('Ventas por año')\n",
    "plt.xlabel('Año')\n",
    "plt.ylabel('Ventas')\n",
    "plt.show()"
   ]
  },
  {
   "cell_type": "markdown",
   "id": "8196accf",
   "metadata": {},
   "source": [
    "### Prueba formal: Prueba de tendencia"
   ]
  },
  {
   "cell_type": "markdown",
   "id": "f8df1a03",
   "metadata": {},
   "source": [
    "Existen diferentes métodos para realizar el análisis de tendencia, pero uno de los más utilizados es la regresión lineal. La regresión lineal es una técnica estadística que se utiliza para encontrar la relación entre una variable dependiente (por ejemplo, el precio de una acción) y una o más variables independientes (por ejemplo, el tiempo).\n",
    "\n",
    "Se realiza una prueba de tendencia utilizando la función linregress de la biblioteca scipy.stats. Esta función calcula la pendiente de una línea de regresión lineal y el valor p asociado, que indica la probabilidad de que la pendiente sea cero. Si el valor p es menor que 0,05, se concluye que hay evidencia de una tendencia significativa en los datos."
   ]
  },
  {
   "cell_type": "code",
   "execution_count": 9,
   "id": "21fb6ea8",
   "metadata": {},
   "outputs": [
    {
     "name": "stdout",
     "output_type": "stream",
     "text": [
      "Pendiente:  745198.0612926556\n",
      "Valor p:  0.008957361661882999\n",
      "La tendencia es significativa\n"
     ]
    }
   ],
   "source": [
    "from scipy.stats import linregress\n",
    "\n",
    "slope, intercept, r_value, p_value, std_err = linregress(ventas['año'], ventas['ventas'])\n",
    "print('Pendiente: ', slope)\n",
    "print('Valor p: ', p_value)\n",
    "\n",
    "if p_value < 0.05:\n",
    "    print('La tendencia es significativa')\n",
    "else:\n",
    "    print('No hay evidencia de tendencia significativa')"
   ]
  },
  {
   "cell_type": "markdown",
   "id": "d48ee46b",
   "metadata": {},
   "source": [
    "## Conclusiones"
   ]
  },
  {
   "cell_type": "markdown",
   "id": "17fd1682",
   "metadata": {},
   "source": [
    "Luego del análisis realizado se puede concluir que la *pendiente* de **745198.0612926556** indica que hay un aumento en las ventas por año en la base de datos AdventureWorks2019. Es decir, en promedio, las ventas están aumentando en **745198.06 unidades por año**.\n",
    "\n",
    "El *valor p* de **0.008957361661882999** indica que la probabilidad de obtener una pendiente tan grande como la observada en los datos si la pendiente real es cero es de aproximadamente **0.9%**. Como este valor p es menor que el nivel de significancia comúnmente utilizado de *0,05*, se concluye que hay evidencia suficiente para afirmar que hay una tendencia significativa en los datos.\n",
    "\n",
    "***Por lo tanto, se puede afirmar que las ventas de AdventureWorks2019 están aumentando significativamente con el tiempo.***"
   ]
  },
  {
   "cell_type": "markdown",
   "id": "52fd71a6",
   "metadata": {},
   "source": [
    "## Recomendaciones"
   ]
  },
  {
   "cell_type": "markdown",
   "id": "cf9529d0",
   "metadata": {},
   "source": [
    "Dado que las ventas están aumentando significativamente con el tiempo, una recomendación para la empresa podría ser continuar invirtiendo en áreas clave para mantener esta tendencia positiva. Por ejemplo, la empresa podría considerar:\n",
    "\n",
    "* *Mejorar el marketing*: la empresa podría invertir en esfuerzos de marketing para aumentar la conciencia de marca y atraer a más clientes potenciales.\n",
    "\n",
    "* *Expandir la oferta de productos*: si la empresa ve un aumento en las ventas en ciertas categorías de productos, podría considerar expandir su oferta en esas áreas para aprovechar esa tendencia.\n",
    "\n",
    "* *Optimizar la cadena de suministro*: si la empresa ve una tendencia a largo plazo de aumento en las ventas, podría considerar optimizar su cadena de suministro para garantizar que pueda satisfacer la demanda futura y mantener su nivel de servicio al cliente.\n",
    "\n",
    "* *Fomentar la fidelidad del cliente*: la empresa podría implementar programas de lealtad para fomentar la fidelidad del cliente y aumentar la retención.\n",
    "\n",
    "* *Explorar nuevos canales de venta*: la empresa podría considerar expandir su presencia en línea o abrir nuevas tiendas para aprovechar la tendencia positiva en las ventas.\n",
    "\n",
    "En general, la recomendación sería que la empresa mantenga un enfoque en la comprensión y la satisfacción de las necesidades de sus clientes, así como en la eficiencia operativa, a medida que busca capitalizar en la tendencia positiva en las ventas."
   ]
  }
 ],
 "metadata": {
  "kernelspec": {
   "display_name": "Python 3 (ipykernel)",
   "language": "python",
   "name": "python3"
  },
  "language_info": {
   "codemirror_mode": {
    "name": "ipython",
    "version": 3
   },
   "file_extension": ".py",
   "mimetype": "text/x-python",
   "name": "python",
   "nbconvert_exporter": "python",
   "pygments_lexer": "ipython3",
   "version": "3.9.7"
  }
 },
 "nbformat": 4,
 "nbformat_minor": 5
}
