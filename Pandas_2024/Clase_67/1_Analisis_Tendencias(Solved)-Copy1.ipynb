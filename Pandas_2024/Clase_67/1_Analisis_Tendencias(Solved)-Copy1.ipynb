{
 "cells": [
  {
   "cell_type": "markdown",
   "id": "1f183e6d",
   "metadata": {},
   "source": [
    "# Análisis Descriptivo: Análisis de Tendencias de las ventas del negocio"
   ]
  },
  {
   "cell_type": "markdown",
   "id": "845a8c2e",
   "metadata": {},
   "source": [
    "El análisis de tendencia es una técnica estadística que se utiliza para identificar patrones o tendencias en un conjunto de datos a lo largo del tiempo. El análisis de tendencia es utilizado para predecir la dirección futura del comportamiento de los datos basándose en su comportamiento pasado."
   ]
  },
  {
   "cell_type": "markdown",
   "id": "ce99ea90",
   "metadata": {},
   "source": [
    "### Carga de las librerías de pyhton necesarias"
   ]
  },
  {
   "cell_type": "code",
   "execution_count": 8,
   "id": "bbb8cdfb-0a11-47db-b25a-e29f979fdd89",
   "metadata": {},
   "outputs": [
    {
     "name": "stdout",
     "output_type": "stream",
     "text": [
      "Collecting scipy\n",
      "  Downloading scipy-1.14.0-cp311-cp311-win_amd64.whl.metadata (60 kB)\n",
      "     ---------------------------------------- 0.0/60.8 kB ? eta -:--:--\n",
      "     ------------------- ------------------ 30.7/60.8 kB 640.0 kB/s eta 0:00:01\n",
      "     -------------------------------------- 60.8/60.8 kB 802.0 kB/s eta 0:00:00\n",
      "Requirement already satisfied: numpy<2.3,>=1.23.5 in c:\\users\\juanj\\anaconda3\\envs\\pandas_2024\\lib\\site-packages (from scipy) (2.0.0)\n",
      "Downloading scipy-1.14.0-cp311-cp311-win_amd64.whl (44.7 MB)\n",
      "   ---------------------------------------- 0.0/44.7 MB ? eta -:--:--\n",
      "   ---------------------------------------- 0.4/44.7 MB 13.9 MB/s eta 0:00:04\n",
      "    --------------------------------------- 1.1/44.7 MB 14.0 MB/s eta 0:00:04\n",
      "   - -------------------------------------- 1.6/44.7 MB 15.0 MB/s eta 0:00:03\n",
      "   - -------------------------------------- 2.2/44.7 MB 13.9 MB/s eta 0:00:04\n",
      "   -- ------------------------------------- 2.8/44.7 MB 14.7 MB/s eta 0:00:03\n",
      "   -- ------------------------------------- 3.3/44.7 MB 15.2 MB/s eta 0:00:03\n",
      "   --- ------------------------------------ 3.9/44.7 MB 14.7 MB/s eta 0:00:03\n",
      "   ---- ----------------------------------- 4.5/44.7 MB 15.2 MB/s eta 0:00:03\n",
      "   ---- ----------------------------------- 5.3/44.7 MB 15.2 MB/s eta 0:00:03\n",
      "   ----- ---------------------------------- 5.9/44.7 MB 15.7 MB/s eta 0:00:03\n",
      "   ----- ---------------------------------- 5.9/44.7 MB 15.1 MB/s eta 0:00:03\n",
      "   ----- ---------------------------------- 6.2/44.7 MB 13.6 MB/s eta 0:00:03\n",
      "   ------ --------------------------------- 6.8/44.7 MB 13.6 MB/s eta 0:00:03\n",
      "   ------ --------------------------------- 7.5/44.7 MB 14.1 MB/s eta 0:00:03\n",
      "   ------- -------------------------------- 8.2/44.7 MB 14.1 MB/s eta 0:00:03\n",
      "   ------- -------------------------------- 8.9/44.7 MB 14.6 MB/s eta 0:00:03\n",
      "   -------- ------------------------------- 9.6/44.7 MB 14.6 MB/s eta 0:00:03\n",
      "   --------- ------------------------------ 10.5/44.7 MB 15.2 MB/s eta 0:00:03\n",
      "   ---------- ----------------------------- 11.5/44.7 MB 15.6 MB/s eta 0:00:03\n",
      "   ----------- ---------------------------- 12.5/44.7 MB 16.4 MB/s eta 0:00:02\n",
      "   ------------ --------------------------- 13.6/44.7 MB 16.8 MB/s eta 0:00:02\n",
      "   ------------ --------------------------- 14.5/44.7 MB 16.8 MB/s eta 0:00:02\n",
      "   ------------- -------------------------- 15.3/44.7 MB 17.2 MB/s eta 0:00:02\n",
      "   -------------- ------------------------- 16.3/44.7 MB 19.8 MB/s eta 0:00:02\n",
      "   --------------- ------------------------ 17.4/44.7 MB 20.5 MB/s eta 0:00:02\n",
      "   ---------------- ----------------------- 18.3/44.7 MB 20.5 MB/s eta 0:00:02\n",
      "   ----------------- ---------------------- 19.3/44.7 MB 21.8 MB/s eta 0:00:02\n",
      "   ------------------ --------------------- 20.2/44.7 MB 21.8 MB/s eta 0:00:02\n",
      "   ------------------ --------------------- 21.1/44.7 MB 21.8 MB/s eta 0:00:02\n",
      "   ------------------- -------------------- 22.0/44.7 MB 21.8 MB/s eta 0:00:02\n",
      "   -------------------- ------------------- 22.6/44.7 MB 21.1 MB/s eta 0:00:02\n",
      "   --------------------- ------------------ 23.8/44.7 MB 21.1 MB/s eta 0:00:01\n",
      "   ---------------------- ----------------- 24.7/44.7 MB 22.6 MB/s eta 0:00:01\n",
      "   ---------------------- ----------------- 25.5/44.7 MB 22.6 MB/s eta 0:00:01\n",
      "   ----------------------- ---------------- 26.8/44.7 MB 22.6 MB/s eta 0:00:01\n",
      "   ------------------------ --------------- 27.7/44.7 MB 22.6 MB/s eta 0:00:01\n",
      "   ------------------------- -------------- 28.8/44.7 MB 23.4 MB/s eta 0:00:01\n",
      "   -------------------------- ------------- 30.0/44.7 MB 24.2 MB/s eta 0:00:01\n",
      "   --------------------------- ------------ 30.9/44.7 MB 23.4 MB/s eta 0:00:01\n",
      "   ---------------------------- ----------- 32.0/44.7 MB 25.2 MB/s eta 0:00:01\n",
      "   ----------------------------- ---------- 33.4/44.7 MB 26.2 MB/s eta 0:00:01\n",
      "   ------------------------------- -------- 34.7/44.7 MB 26.2 MB/s eta 0:00:01\n",
      "   -------------------------------- ------- 36.0/44.7 MB 27.3 MB/s eta 0:00:01\n",
      "   --------------------------------- ------ 37.2/44.7 MB 27.3 MB/s eta 0:00:01\n",
      "   ---------------------------------- ----- 38.5/44.7 MB 27.3 MB/s eta 0:00:01\n",
      "   ----------------------------------- ---- 39.8/44.7 MB 27.3 MB/s eta 0:00:01\n",
      "   ------------------------------------ --- 41.0/44.7 MB 27.3 MB/s eta 0:00:01\n",
      "   ------------------------------------- -- 42.3/44.7 MB 27.3 MB/s eta 0:00:01\n",
      "   -------------------------------------- - 43.6/44.7 MB 27.3 MB/s eta 0:00:01\n",
      "   ---------------------------------------  44.7/44.7 MB 26.2 MB/s eta 0:00:01\n",
      "   ---------------------------------------  44.7/44.7 MB 26.2 MB/s eta 0:00:01\n",
      "   ---------------------------------------  44.7/44.7 MB 26.2 MB/s eta 0:00:01\n",
      "   ---------------------------------------- 44.7/44.7 MB 20.4 MB/s eta 0:00:00\n",
      "Installing collected packages: scipy\n",
      "Successfully installed scipy-1.14.0\n"
     ]
    }
   ],
   "source": [
    "!pip install scipy"
   ]
  },
  {
   "cell_type": "code",
   "execution_count": 1,
   "id": "6435daaf",
   "metadata": {},
   "outputs": [],
   "source": [
    "import pyodbc\n",
    "import pandas as pd\n",
    "import numpy as np\n",
    "import matplotlib.pyplot as plt\n",
    "import seaborn as sns\n",
    "\n",
    "plt.rcParams['figure.figsize'] = [12, 8]\n",
    "\n",
    "pd.options.display.float_format = '{:.2f}'.format"
   ]
  },
  {
   "cell_type": "markdown",
   "id": "da98587a",
   "metadata": {},
   "source": [
    "Las librerías de Python son conjuntos de código predefinidos que se utilizan para realizar tareas específicas en el lenguaje de programación Python.\n",
    "Las librerías se utilizan para diferentes propósitos, como manipulación de datos, análisis de datos, visualización de datos, aprendizaje automático, desarrollo web, entre otros. "
   ]
  },
  {
   "cell_type": "markdown",
   "id": "90dc0f21",
   "metadata": {},
   "source": [
    "### Conexión a SQL Server y extracción de los datos"
   ]
  },
  {
   "cell_type": "markdown",
   "id": "3a5fcc80-13a9-4b50-86d7-1abf901bf94f",
   "metadata": {},
   "source": [
    "Explique línea a línea el código mostrado abajo. Debe explicar tambien la query. Puede probar aparte la query desde Azure Data Studio o directamente desde SQL Server Managment Studio."
   ]
  },
  {
   "cell_type": "code",
   "execution_count": 16,
   "id": "e4087e9c",
   "metadata": {},
   "outputs": [
    {
     "name": "stderr",
     "output_type": "stream",
     "text": [
      "C:\\Users\\juanj\\AppData\\Local\\Temp\\ipykernel_20564\\2564380238.py:11: UserWarning: pandas only supports SQLAlchemy connectable (engine/connection) or database string URI or sqlite3 DBAPI2 connection. Other DBAPI2 objects are not tested. Please consider using SQLAlchemy.\n",
      "  ventas = pd.read_sql(input_query, conn_str)\n"
     ]
    }
   ],
   "source": [
    "conn_str = pyodbc.connect('Driver={SQL Server};' 'Server=BALRODJJ;''Database=AdventureWorks2019;''Trusted_Connection=yes;')\n",
    "# En Server=BALRODJJ debes colocar el nombre de tu base de datos.\n",
    "# Lo demás se deja igual\n",
    "input_query = '''select\n",
    "\t year(t1.OrderDate) as 'año', \n",
    "\t month(t1.OrderDate) as 'mes',\n",
    "\t sum(t1.TotalDue) as 'ventas'\n",
    "from Sales.SalesOrderHeader as t1\n",
    "\tgroup by year(t1.OrderDate), month(t1.OrderDate) \n",
    "\torder by year(t1.OrderDate), month(t1.OrderDate)'''\n",
    "\n",
    "ventas = pd.read_sql(input_query, conn_str)"
   ]
  },
  {
   "cell_type": "code",
   "execution_count": 15,
   "id": "13b7d255-5adb-438b-b2aa-1b37c8f7caae",
   "metadata": {},
   "outputs": [
    {
     "data": {
      "text/html": [
       "<div>\n",
       "<style scoped>\n",
       "    .dataframe tbody tr th:only-of-type {\n",
       "        vertical-align: middle;\n",
       "    }\n",
       "\n",
       "    .dataframe tbody tr th {\n",
       "        vertical-align: top;\n",
       "    }\n",
       "\n",
       "    .dataframe thead th {\n",
       "        text-align: right;\n",
       "    }\n",
       "</style>\n",
       "<table border=\"1\" class=\"dataframe\">\n",
       "  <thead>\n",
       "    <tr style=\"text-align: right;\">\n",
       "      <th></th>\n",
       "      <th>año</th>\n",
       "      <th>mes</th>\n",
       "      <th>ventas</th>\n",
       "    </tr>\n",
       "  </thead>\n",
       "  <tbody>\n",
       "    <tr>\n",
       "      <th>0</th>\n",
       "      <td>2011</td>\n",
       "      <td>5</td>\n",
       "      <td>567020.95</td>\n",
       "    </tr>\n",
       "    <tr>\n",
       "      <th>1</th>\n",
       "      <td>2011</td>\n",
       "      <td>6</td>\n",
       "      <td>507096.47</td>\n",
       "    </tr>\n",
       "    <tr>\n",
       "      <th>2</th>\n",
       "      <td>2011</td>\n",
       "      <td>7</td>\n",
       "      <td>2292182.88</td>\n",
       "    </tr>\n",
       "    <tr>\n",
       "      <th>3</th>\n",
       "      <td>2011</td>\n",
       "      <td>8</td>\n",
       "      <td>2800576.17</td>\n",
       "    </tr>\n",
       "    <tr>\n",
       "      <th>4</th>\n",
       "      <td>2011</td>\n",
       "      <td>9</td>\n",
       "      <td>554791.61</td>\n",
       "    </tr>\n",
       "    <tr>\n",
       "      <th>5</th>\n",
       "      <td>2011</td>\n",
       "      <td>10</td>\n",
       "      <td>5156269.53</td>\n",
       "    </tr>\n",
       "    <tr>\n",
       "      <th>6</th>\n",
       "      <td>2011</td>\n",
       "      <td>11</td>\n",
       "      <td>815313.02</td>\n",
       "    </tr>\n",
       "    <tr>\n",
       "      <th>7</th>\n",
       "      <td>2011</td>\n",
       "      <td>12</td>\n",
       "      <td>1462448.90</td>\n",
       "    </tr>\n",
       "    <tr>\n",
       "      <th>8</th>\n",
       "      <td>2012</td>\n",
       "      <td>1</td>\n",
       "      <td>4458337.44</td>\n",
       "    </tr>\n",
       "    <tr>\n",
       "      <th>9</th>\n",
       "      <td>2012</td>\n",
       "      <td>2</td>\n",
       "      <td>1649051.90</td>\n",
       "    </tr>\n",
       "    <tr>\n",
       "      <th>10</th>\n",
       "      <td>2012</td>\n",
       "      <td>3</td>\n",
       "      <td>3336347.47</td>\n",
       "    </tr>\n",
       "    <tr>\n",
       "      <th>11</th>\n",
       "      <td>2012</td>\n",
       "      <td>4</td>\n",
       "      <td>1871923.50</td>\n",
       "    </tr>\n",
       "    <tr>\n",
       "      <th>12</th>\n",
       "      <td>2012</td>\n",
       "      <td>5</td>\n",
       "      <td>3452924.45</td>\n",
       "    </tr>\n",
       "    <tr>\n",
       "      <th>13</th>\n",
       "      <td>2012</td>\n",
       "      <td>6</td>\n",
       "      <td>4610647.22</td>\n",
       "    </tr>\n",
       "    <tr>\n",
       "      <th>14</th>\n",
       "      <td>2012</td>\n",
       "      <td>7</td>\n",
       "      <td>3840231.46</td>\n",
       "    </tr>\n",
       "    <tr>\n",
       "      <th>15</th>\n",
       "      <td>2012</td>\n",
       "      <td>8</td>\n",
       "      <td>2442451.18</td>\n",
       "    </tr>\n",
       "    <tr>\n",
       "      <th>16</th>\n",
       "      <td>2012</td>\n",
       "      <td>9</td>\n",
       "      <td>3881724.19</td>\n",
       "    </tr>\n",
       "    <tr>\n",
       "      <th>17</th>\n",
       "      <td>2012</td>\n",
       "      <td>10</td>\n",
       "      <td>2858060.20</td>\n",
       "    </tr>\n",
       "    <tr>\n",
       "      <th>18</th>\n",
       "      <td>2012</td>\n",
       "      <td>11</td>\n",
       "      <td>2097153.13</td>\n",
       "    </tr>\n",
       "    <tr>\n",
       "      <th>19</th>\n",
       "      <td>2012</td>\n",
       "      <td>12</td>\n",
       "      <td>3176848.17</td>\n",
       "    </tr>\n",
       "    <tr>\n",
       "      <th>20</th>\n",
       "      <td>2013</td>\n",
       "      <td>1</td>\n",
       "      <td>2340061.55</td>\n",
       "    </tr>\n",
       "    <tr>\n",
       "      <th>21</th>\n",
       "      <td>2013</td>\n",
       "      <td>2</td>\n",
       "      <td>2600218.87</td>\n",
       "    </tr>\n",
       "    <tr>\n",
       "      <th>22</th>\n",
       "      <td>2013</td>\n",
       "      <td>3</td>\n",
       "      <td>3831605.94</td>\n",
       "    </tr>\n",
       "    <tr>\n",
       "      <th>23</th>\n",
       "      <td>2013</td>\n",
       "      <td>4</td>\n",
       "      <td>2840711.17</td>\n",
       "    </tr>\n",
       "    <tr>\n",
       "      <th>24</th>\n",
       "      <td>2013</td>\n",
       "      <td>5</td>\n",
       "      <td>3658084.95</td>\n",
       "    </tr>\n",
       "    <tr>\n",
       "      <th>25</th>\n",
       "      <td>2013</td>\n",
       "      <td>6</td>\n",
       "      <td>5726265.26</td>\n",
       "    </tr>\n",
       "    <tr>\n",
       "      <th>26</th>\n",
       "      <td>2013</td>\n",
       "      <td>7</td>\n",
       "      <td>5521840.84</td>\n",
       "    </tr>\n",
       "    <tr>\n",
       "      <th>27</th>\n",
       "      <td>2013</td>\n",
       "      <td>8</td>\n",
       "      <td>3733973.00</td>\n",
       "    </tr>\n",
       "    <tr>\n",
       "      <th>28</th>\n",
       "      <td>2013</td>\n",
       "      <td>9</td>\n",
       "      <td>5083505.34</td>\n",
       "    </tr>\n",
       "    <tr>\n",
       "      <th>29</th>\n",
       "      <td>2013</td>\n",
       "      <td>10</td>\n",
       "      <td>5374375.94</td>\n",
       "    </tr>\n",
       "    <tr>\n",
       "      <th>30</th>\n",
       "      <td>2013</td>\n",
       "      <td>11</td>\n",
       "      <td>3694668.00</td>\n",
       "    </tr>\n",
       "    <tr>\n",
       "      <th>31</th>\n",
       "      <td>2013</td>\n",
       "      <td>12</td>\n",
       "      <td>4560577.10</td>\n",
       "    </tr>\n",
       "    <tr>\n",
       "      <th>32</th>\n",
       "      <td>2014</td>\n",
       "      <td>1</td>\n",
       "      <td>4798027.87</td>\n",
       "    </tr>\n",
       "    <tr>\n",
       "      <th>33</th>\n",
       "      <td>2014</td>\n",
       "      <td>2</td>\n",
       "      <td>1478213.29</td>\n",
       "    </tr>\n",
       "    <tr>\n",
       "      <th>34</th>\n",
       "      <td>2014</td>\n",
       "      <td>3</td>\n",
       "      <td>8097036.31</td>\n",
       "    </tr>\n",
       "    <tr>\n",
       "      <th>35</th>\n",
       "      <td>2014</td>\n",
       "      <td>4</td>\n",
       "      <td>1985886.15</td>\n",
       "    </tr>\n",
       "    <tr>\n",
       "      <th>36</th>\n",
       "      <td>2014</td>\n",
       "      <td>5</td>\n",
       "      <td>6006183.21</td>\n",
       "    </tr>\n",
       "    <tr>\n",
       "      <th>37</th>\n",
       "      <td>2014</td>\n",
       "      <td>6</td>\n",
       "      <td>54151.48</td>\n",
       "    </tr>\n",
       "  </tbody>\n",
       "</table>\n",
       "</div>"
      ],
      "text/plain": [
       "     año  mes     ventas\n",
       "0   2011    5  567020.95\n",
       "1   2011    6  507096.47\n",
       "2   2011    7 2292182.88\n",
       "3   2011    8 2800576.17\n",
       "4   2011    9  554791.61\n",
       "5   2011   10 5156269.53\n",
       "6   2011   11  815313.02\n",
       "7   2011   12 1462448.90\n",
       "8   2012    1 4458337.44\n",
       "9   2012    2 1649051.90\n",
       "10  2012    3 3336347.47\n",
       "11  2012    4 1871923.50\n",
       "12  2012    5 3452924.45\n",
       "13  2012    6 4610647.22\n",
       "14  2012    7 3840231.46\n",
       "15  2012    8 2442451.18\n",
       "16  2012    9 3881724.19\n",
       "17  2012   10 2858060.20\n",
       "18  2012   11 2097153.13\n",
       "19  2012   12 3176848.17\n",
       "20  2013    1 2340061.55\n",
       "21  2013    2 2600218.87\n",
       "22  2013    3 3831605.94\n",
       "23  2013    4 2840711.17\n",
       "24  2013    5 3658084.95\n",
       "25  2013    6 5726265.26\n",
       "26  2013    7 5521840.84\n",
       "27  2013    8 3733973.00\n",
       "28  2013    9 5083505.34\n",
       "29  2013   10 5374375.94\n",
       "30  2013   11 3694668.00\n",
       "31  2013   12 4560577.10\n",
       "32  2014    1 4798027.87\n",
       "33  2014    2 1478213.29\n",
       "34  2014    3 8097036.31\n",
       "35  2014    4 1985886.15\n",
       "36  2014    5 6006183.21\n",
       "37  2014    6   54151.48"
      ]
     },
     "execution_count": 15,
     "metadata": {},
     "output_type": "execute_result"
    }
   ],
   "source": [
    "ventas"
   ]
  },
  {
   "cell_type": "markdown",
   "id": "388977fd-209b-4651-8def-76e32ac8bdcf",
   "metadata": {},
   "source": [
    "### El código **no** da error, sin embargo imprime un `warning` donde se sugiere el uso de `SQLAlchemy` en vez de `pyodbc`. Investigue como se hace la conexión a SQL Server con SQLAlchemy utilizando la misma base de datos , pruebe con la misma query anterior, guardar los resultados en un nuevo dataframe usando read_sql e imprima la tabla. Explicar linea por linea el código utilizado."
   ]
  },
  {
   "cell_type": "markdown",
   "id": "f0b853a6",
   "metadata": {},
   "source": [
    "### Exploración del dataset extraído (ventas)"
   ]
  },
  {
   "cell_type": "markdown",
   "id": "4f1fc40a-cf45-40e9-9603-7d484f4249ab",
   "metadata": {},
   "source": [
    "- Muestre la información general del dataframe (info):"
   ]
  },
  {
   "cell_type": "code",
   "execution_count": 11,
   "id": "c034f7c6-ce5b-4b88-965c-f95b26519073",
   "metadata": {},
   "outputs": [
    {
     "name": "stdout",
     "output_type": "stream",
     "text": [
      "<class 'pandas.core.frame.DataFrame'>\n",
      "RangeIndex: 38 entries, 0 to 37\n",
      "Data columns (total 3 columns):\n",
      " #   Column  Non-Null Count  Dtype  \n",
      "---  ------  --------------  -----  \n",
      " 0   año     38 non-null     int64  \n",
      " 1   mes     38 non-null     int64  \n",
      " 2   ventas  38 non-null     float64\n",
      "dtypes: float64(1), int64(2)\n",
      "memory usage: 1.0 KB\n"
     ]
    }
   ],
   "source": [
    "ventas.info()"
   ]
  },
  {
   "cell_type": "markdown",
   "id": "efeec6ef-c877-4eb3-8af1-b94a526f2c0a",
   "metadata": {},
   "source": [
    "- Imprima un resumen de las principales estadisticas descriptivas para el dataframe ventas: count, mean, std, min, 25%,  50%, 75%, max. Explique e interprete la salida. "
   ]
  },
  {
   "cell_type": "code",
   "execution_count": 14,
   "id": "60b649e7-aa97-4eb1-9b04-dc1166e4b9ca",
   "metadata": {},
   "outputs": [
    {
     "data": {
      "text/html": [
       "<div>\n",
       "<style scoped>\n",
       "    .dataframe tbody tr th:only-of-type {\n",
       "        vertical-align: middle;\n",
       "    }\n",
       "\n",
       "    .dataframe tbody tr th {\n",
       "        vertical-align: top;\n",
       "    }\n",
       "\n",
       "    .dataframe thead th {\n",
       "        text-align: right;\n",
       "    }\n",
       "</style>\n",
       "<table border=\"1\" class=\"dataframe\">\n",
       "  <thead>\n",
       "    <tr style=\"text-align: right;\">\n",
       "      <th></th>\n",
       "      <th>año</th>\n",
       "      <th>mes</th>\n",
       "      <th>ventas</th>\n",
       "    </tr>\n",
       "  </thead>\n",
       "  <tbody>\n",
       "    <tr>\n",
       "      <th>count</th>\n",
       "      <td>38.00</td>\n",
       "      <td>38.00</td>\n",
       "      <td>38.00</td>\n",
       "    </tr>\n",
       "    <tr>\n",
       "      <th>mean</th>\n",
       "      <td>2012.42</td>\n",
       "      <td>6.45</td>\n",
       "      <td>3242547.00</td>\n",
       "    </tr>\n",
       "    <tr>\n",
       "      <th>std</th>\n",
       "      <td>1.00</td>\n",
       "      <td>3.41</td>\n",
       "      <td>1787700.91</td>\n",
       "    </tr>\n",
       "    <tr>\n",
       "      <th>min</th>\n",
       "      <td>2011.00</td>\n",
       "      <td>1.00</td>\n",
       "      <td>54151.48</td>\n",
       "    </tr>\n",
       "    <tr>\n",
       "      <th>25%</th>\n",
       "      <td>2012.00</td>\n",
       "      <td>4.00</td>\n",
       "      <td>2013702.89</td>\n",
       "    </tr>\n",
       "    <tr>\n",
       "      <th>50%</th>\n",
       "      <td>2012.00</td>\n",
       "      <td>6.00</td>\n",
       "      <td>3256597.82</td>\n",
       "    </tr>\n",
       "    <tr>\n",
       "      <th>75%</th>\n",
       "      <td>2013.00</td>\n",
       "      <td>9.00</td>\n",
       "      <td>4535017.18</td>\n",
       "    </tr>\n",
       "    <tr>\n",
       "      <th>max</th>\n",
       "      <td>2014.00</td>\n",
       "      <td>12.00</td>\n",
       "      <td>8097036.31</td>\n",
       "    </tr>\n",
       "  </tbody>\n",
       "</table>\n",
       "</div>"
      ],
      "text/plain": [
       "          año   mes     ventas\n",
       "count   38.00 38.00      38.00\n",
       "mean  2012.42  6.45 3242547.00\n",
       "std      1.00  3.41 1787700.91\n",
       "min   2011.00  1.00   54151.48\n",
       "25%   2012.00  4.00 2013702.89\n",
       "50%   2012.00  6.00 3256597.82\n",
       "75%   2013.00  9.00 4535017.18\n",
       "max   2014.00 12.00 8097036.31"
      ]
     },
     "execution_count": 14,
     "metadata": {},
     "output_type": "execute_result"
    }
   ],
   "source": [
    "ventas.describe()"
   ]
  },
  {
   "cell_type": "markdown",
   "id": "4c9d4057",
   "metadata": {},
   "source": [
    "- Mostrar las dimensiones del dataset"
   ]
  },
  {
   "cell_type": "code",
   "execution_count": 3,
   "id": "590df5e8",
   "metadata": {},
   "outputs": [
    {
     "data": {
      "text/plain": [
       "(38, 3)"
      ]
     },
     "execution_count": 3,
     "metadata": {},
     "output_type": "execute_result"
    }
   ],
   "source": [
    "ventas.shape"
   ]
  },
  {
   "cell_type": "markdown",
   "id": "bca68806-3b0f-4901-b6c7-726f0fd9325d",
   "metadata": {},
   "source": [
    "- Imprimir en un objeto tipo Index todas las columnas del dataframe"
   ]
  },
  {
   "cell_type": "code",
   "execution_count": 4,
   "id": "c157a990",
   "metadata": {},
   "outputs": [
    {
     "data": {
      "text/plain": [
       "Index(['año', 'mes', 'ventas'], dtype='object')"
      ]
     },
     "execution_count": 4,
     "metadata": {},
     "output_type": "execute_result"
    }
   ],
   "source": [
    "ventas.columns"
   ]
  },
  {
   "cell_type": "markdown",
   "id": "f9eaa9b4-86cc-446b-8666-b53af01e4cac",
   "metadata": {},
   "source": [
    "- Muestre el contenido de las primeras 15 líneas del dataframe"
   ]
  },
  {
   "cell_type": "code",
   "execution_count": 18,
   "id": "a4dadc6e",
   "metadata": {},
   "outputs": [
    {
     "data": {
      "text/html": [
       "<div>\n",
       "<style scoped>\n",
       "    .dataframe tbody tr th:only-of-type {\n",
       "        vertical-align: middle;\n",
       "    }\n",
       "\n",
       "    .dataframe tbody tr th {\n",
       "        vertical-align: top;\n",
       "    }\n",
       "\n",
       "    .dataframe thead th {\n",
       "        text-align: right;\n",
       "    }\n",
       "</style>\n",
       "<table border=\"1\" class=\"dataframe\">\n",
       "  <thead>\n",
       "    <tr style=\"text-align: right;\">\n",
       "      <th></th>\n",
       "      <th>año</th>\n",
       "      <th>mes</th>\n",
       "      <th>ventas</th>\n",
       "    </tr>\n",
       "  </thead>\n",
       "  <tbody>\n",
       "    <tr>\n",
       "      <th>0</th>\n",
       "      <td>2011</td>\n",
       "      <td>5</td>\n",
       "      <td>567020.95</td>\n",
       "    </tr>\n",
       "    <tr>\n",
       "      <th>1</th>\n",
       "      <td>2011</td>\n",
       "      <td>6</td>\n",
       "      <td>507096.47</td>\n",
       "    </tr>\n",
       "    <tr>\n",
       "      <th>2</th>\n",
       "      <td>2011</td>\n",
       "      <td>7</td>\n",
       "      <td>2292182.88</td>\n",
       "    </tr>\n",
       "    <tr>\n",
       "      <th>3</th>\n",
       "      <td>2011</td>\n",
       "      <td>8</td>\n",
       "      <td>2800576.17</td>\n",
       "    </tr>\n",
       "    <tr>\n",
       "      <th>4</th>\n",
       "      <td>2011</td>\n",
       "      <td>9</td>\n",
       "      <td>554791.61</td>\n",
       "    </tr>\n",
       "    <tr>\n",
       "      <th>5</th>\n",
       "      <td>2011</td>\n",
       "      <td>10</td>\n",
       "      <td>5156269.53</td>\n",
       "    </tr>\n",
       "    <tr>\n",
       "      <th>6</th>\n",
       "      <td>2011</td>\n",
       "      <td>11</td>\n",
       "      <td>815313.02</td>\n",
       "    </tr>\n",
       "    <tr>\n",
       "      <th>7</th>\n",
       "      <td>2011</td>\n",
       "      <td>12</td>\n",
       "      <td>1462448.90</td>\n",
       "    </tr>\n",
       "    <tr>\n",
       "      <th>8</th>\n",
       "      <td>2012</td>\n",
       "      <td>1</td>\n",
       "      <td>4458337.44</td>\n",
       "    </tr>\n",
       "    <tr>\n",
       "      <th>9</th>\n",
       "      <td>2012</td>\n",
       "      <td>2</td>\n",
       "      <td>1649051.90</td>\n",
       "    </tr>\n",
       "    <tr>\n",
       "      <th>10</th>\n",
       "      <td>2012</td>\n",
       "      <td>3</td>\n",
       "      <td>3336347.47</td>\n",
       "    </tr>\n",
       "    <tr>\n",
       "      <th>11</th>\n",
       "      <td>2012</td>\n",
       "      <td>4</td>\n",
       "      <td>1871923.50</td>\n",
       "    </tr>\n",
       "    <tr>\n",
       "      <th>12</th>\n",
       "      <td>2012</td>\n",
       "      <td>5</td>\n",
       "      <td>3452924.45</td>\n",
       "    </tr>\n",
       "    <tr>\n",
       "      <th>13</th>\n",
       "      <td>2012</td>\n",
       "      <td>6</td>\n",
       "      <td>4610647.22</td>\n",
       "    </tr>\n",
       "    <tr>\n",
       "      <th>14</th>\n",
       "      <td>2012</td>\n",
       "      <td>7</td>\n",
       "      <td>3840231.46</td>\n",
       "    </tr>\n",
       "  </tbody>\n",
       "</table>\n",
       "</div>"
      ],
      "text/plain": [
       "     año  mes     ventas\n",
       "0   2011    5  567020.95\n",
       "1   2011    6  507096.47\n",
       "2   2011    7 2292182.88\n",
       "3   2011    8 2800576.17\n",
       "4   2011    9  554791.61\n",
       "5   2011   10 5156269.53\n",
       "6   2011   11  815313.02\n",
       "7   2011   12 1462448.90\n",
       "8   2012    1 4458337.44\n",
       "9   2012    2 1649051.90\n",
       "10  2012    3 3336347.47\n",
       "11  2012    4 1871923.50\n",
       "12  2012    5 3452924.45\n",
       "13  2012    6 4610647.22\n",
       "14  2012    7 3840231.46"
      ]
     },
     "execution_count": 18,
     "metadata": {},
     "output_type": "execute_result"
    }
   ],
   "source": [
    "ventas.head(15)"
   ]
  },
  {
   "cell_type": "markdown",
   "id": "901cb91c-e275-46b8-9953-8f9f012ec6f2",
   "metadata": {},
   "source": [
    "- Muestre las últimas cinco líneas del dataframe"
   ]
  },
  {
   "cell_type": "code",
   "execution_count": 13,
   "id": "520684b8-7df4-4494-9960-b3c613454123",
   "metadata": {},
   "outputs": [
    {
     "data": {
      "text/html": [
       "<div>\n",
       "<style scoped>\n",
       "    .dataframe tbody tr th:only-of-type {\n",
       "        vertical-align: middle;\n",
       "    }\n",
       "\n",
       "    .dataframe tbody tr th {\n",
       "        vertical-align: top;\n",
       "    }\n",
       "\n",
       "    .dataframe thead th {\n",
       "        text-align: right;\n",
       "    }\n",
       "</style>\n",
       "<table border=\"1\" class=\"dataframe\">\n",
       "  <thead>\n",
       "    <tr style=\"text-align: right;\">\n",
       "      <th></th>\n",
       "      <th>año</th>\n",
       "      <th>mes</th>\n",
       "      <th>ventas</th>\n",
       "    </tr>\n",
       "  </thead>\n",
       "  <tbody>\n",
       "    <tr>\n",
       "      <th>33</th>\n",
       "      <td>2014</td>\n",
       "      <td>2</td>\n",
       "      <td>1478213.29</td>\n",
       "    </tr>\n",
       "    <tr>\n",
       "      <th>34</th>\n",
       "      <td>2014</td>\n",
       "      <td>3</td>\n",
       "      <td>8097036.31</td>\n",
       "    </tr>\n",
       "    <tr>\n",
       "      <th>35</th>\n",
       "      <td>2014</td>\n",
       "      <td>4</td>\n",
       "      <td>1985886.15</td>\n",
       "    </tr>\n",
       "    <tr>\n",
       "      <th>36</th>\n",
       "      <td>2014</td>\n",
       "      <td>5</td>\n",
       "      <td>6006183.21</td>\n",
       "    </tr>\n",
       "    <tr>\n",
       "      <th>37</th>\n",
       "      <td>2014</td>\n",
       "      <td>6</td>\n",
       "      <td>54151.48</td>\n",
       "    </tr>\n",
       "  </tbody>\n",
       "</table>\n",
       "</div>"
      ],
      "text/plain": [
       "     año  mes     ventas\n",
       "33  2014    2 1478213.29\n",
       "34  2014    3 8097036.31\n",
       "35  2014    4 1985886.15\n",
       "36  2014    5 6006183.21\n",
       "37  2014    6   54151.48"
      ]
     },
     "execution_count": 13,
     "metadata": {},
     "output_type": "execute_result"
    }
   ],
   "source": [
    "ventas.tail()"
   ]
  },
  {
   "cell_type": "markdown",
   "id": "143fd4d2-0779-4aa5-a7a1-31c5d54036d2",
   "metadata": {},
   "source": [
    "Calcule Correlaciones y Covarianzas. Explicar resultados"
   ]
  },
  {
   "cell_type": "code",
   "execution_count": null,
   "id": "e7bd609b-aaac-44d1-b008-6572c973ff96",
   "metadata": {},
   "outputs": [],
   "source": []
  },
  {
   "cell_type": "markdown",
   "id": "5b4bc3ae",
   "metadata": {},
   "source": [
    "## Visualización gráfica de los datos"
   ]
  },
  {
   "cell_type": "markdown",
   "id": "e6947453",
   "metadata": {},
   "source": [
    "### Gráfico de barras de las ventas por mes"
   ]
  },
  {
   "cell_type": "markdown",
   "id": "39116fc4",
   "metadata": {},
   "source": [
    "Se realiza una exploración visual de curva que dibuja las ventas agrupadas por mes."
   ]
  },
  {
   "cell_type": "markdown",
   "id": "65fc915b-91f5-4439-9595-ddf3f30a0625",
   "metadata": {},
   "source": [
    "- Explique línea por línea el siguiente código:"
   ]
  },
  {
   "cell_type": "code",
   "execution_count": 5,
   "id": "4bc6103d",
   "metadata": {},
   "outputs": [
    {
     "data": {
      "image/png": "[encoded data removed]",
      "text/plain": [
       "<Figure size 1200x800 with 1 Axes>"
      ]
     },
     "metadata": {},
     "output_type": "display_data"
    }
   ],
   "source": [
    "ventas_por_mes = ventas.groupby('mes')['ventas'].sum().reset_index()\n",
    "sns.barplot(x='mes', y='ventas', data=ventas_por_mes)\n",
    "plt.title('Ventas por mes')\n",
    "plt.show()"
   ]
  },
  {
   "cell_type": "markdown",
   "id": "517fe194-a7cb-4a70-8445-21222ab0ac17",
   "metadata": {},
   "source": [
    "- Interpretar o explicar lo que el gráfico de arriba 'esta diciendo'."
   ]
  },
  {
   "cell_type": "markdown",
   "id": "fd85d5fb",
   "metadata": {},
   "source": [
    "### Gráfico de línea de las ventas por año"
   ]
  },
  {
   "cell_type": "markdown",
   "id": "d49f891b",
   "metadata": {},
   "source": [
    "Se observa la curva que dibuja la evolución de las ventas agrupadas por año."
   ]
  },
  {
   "cell_type": "markdown",
   "id": "b0ac39e8-3bdc-4e0f-b2dc-bf74d7408dfe",
   "metadata": {},
   "source": [
    "- Explique línea por línea el siguiente código:"
   ]
  },
  {
   "cell_type": "code",
   "execution_count": 6,
   "id": "edf27161",
   "metadata": {},
   "outputs": [
    {
     "data": {
      "image/png": "[encoded data removed]",
      "text/plain": [
       "<Figure size 1200x800 with 1 Axes>"
      ]
     },
     "metadata": {},
     "output_type": "display_data"
    }
   ],
   "source": [
    "ventas_por_año = ventas.groupby('año')['ventas'].sum().reset_index()\n",
    "plt.plot(ventas_por_año['año'], ventas_por_año['ventas'])\n",
    "plt.title('Ventas por año')\n",
    "plt.xlabel('Año')\n",
    "plt.ylabel('Ventas')\n",
    "plt.show()"
   ]
  },
  {
   "cell_type": "markdown",
   "id": "811b0d40-3adb-4560-9df1-7427875218c0",
   "metadata": {},
   "source": [
    "- Interpretar o explicar lo que el gráfico de arriba 'esta diciendo'."
   ]
  },
  {
   "cell_type": "markdown",
   "id": "8196accf",
   "metadata": {},
   "source": [
    "### Prueba formal: Prueba de tendencia"
   ]
  },
  {
   "cell_type": "markdown",
   "id": "f8df1a03",
   "metadata": {},
   "source": [
    "Existen diferentes métodos para realizar el análisis de tendencia, pero uno de los más utilizados es la regresión lineal. La regresión lineal es una técnica estadística que se utiliza para encontrar la relación entre una variable dependiente (por ejemplo, el precio de una acción) y una o más variables independientes (por ejemplo, el tiempo).\n",
    "\n",
    "Se realiza una prueba de tendencia utilizando la función linregress de la biblioteca scipy.stats. Esta función calcula la pendiente de una línea de regresión lineal y el valor p asociado, que indica la probabilidad de que la pendiente sea cero. Si el valor p es menor que 0,05, se concluye que hay evidencia de una tendencia significativa en los datos."
   ]
  },
  {
   "cell_type": "markdown",
   "id": "90201e80-9a7c-41b1-8b59-cd6bfbc3f03a",
   "metadata": {},
   "source": [
    "- Explicar el siguiente código:"
   ]
  },
  {
   "cell_type": "code",
   "execution_count": 20,
   "id": "21fb6ea8",
   "metadata": {},
   "outputs": [
    {
     "name": "stdout",
     "output_type": "stream",
     "text": [
      "Pendiente:  745198.0612926556\n",
      "Valor p:  0.008957361661883\n",
      "La tendencia es significativa\n"
     ]
    }
   ],
   "source": [
    "from scipy.stats import linregress\n",
    "\n",
    "slope, intercept, r_value, p_value, std_err = linregress(ventas['año'], ventas['ventas'])\n",
    "print('Pendiente: ', slope)\n",
    "print('Valor p: ', p_value)\n",
    "\n",
    "if p_value < 0.05:\n",
    "    print('La tendencia es significativa')\n",
    "else:\n",
    "    print('No hay evidencia de tendencia significativa')"
   ]
  },
  {
   "cell_type": "markdown",
   "id": "d48ee46b",
   "metadata": {},
   "source": [
    "## Conclusiones"
   ]
  },
  {
   "cell_type": "markdown",
   "id": "17fd1682",
   "metadata": {},
   "source": [
    "Luego del análisis realizado se puede concluir que la *pendiente* de **745198.0612926556** indica que hay un aumento en las ventas por año en la base de datos AdventureWorks2019. Es decir, en promedio, las ventas están aumentando en **745198.06 unidades por año**.\n",
    "\n",
    "El *valor p* de **0.008957361661882999** indica que la probabilidad de obtener una pendiente tan grande como la observada en los datos si la pendiente real es cero es de aproximadamente **0.9%**. Como este valor p es menor que el nivel de significancia comúnmente utilizado de *0,05*, se concluye que hay evidencia suficiente para afirmar que hay una tendencia significativa en los datos.\n",
    "\n",
    "***Por lo tanto, se puede afirmar que las ventas de AdventureWorks2019 están aumentando significativamente con el tiempo.***"
   ]
  },
  {
   "cell_type": "markdown",
   "id": "52fd71a6",
   "metadata": {},
   "source": [
    "## Recomendaciones"
   ]
  },
  {
   "cell_type": "markdown",
   "id": "cf9529d0",
   "metadata": {},
   "source": [
    "Dado que las ventas están aumentando significativamente con el tiempo, una recomendación para la empresa podría ser continuar invirtiendo en áreas clave para mantener esta tendencia positiva. Por ejemplo, la empresa podría considerar:\n",
    "\n",
    "* *Mejorar el marketing*: la empresa podría invertir en esfuerzos de marketing para aumentar la conciencia de marca y atraer a más clientes potenciales.\n",
    "\n",
    "* *Expandir la oferta de productos*: si la empresa ve un aumento en las ventas en ciertas categorías de productos, podría considerar expandir su oferta en esas áreas para aprovechar esa tendencia.\n",
    "\n",
    "* *Optimizar la cadena de suministro*: si la empresa ve una tendencia a largo plazo de aumento en las ventas, podría considerar optimizar su cadena de suministro para garantizar que pueda satisfacer la demanda futura y mantener su nivel de servicio al cliente.\n",
    "\n",
    "* *Fomentar la fidelidad del cliente*: la empresa podría implementar programas de lealtad para fomentar la fidelidad del cliente y aumentar la retención.\n",
    "\n",
    "* *Explorar nuevos canales de venta*: la empresa podría considerar expandir su presencia en línea o abrir nuevas tiendas para aprovechar la tendencia positiva en las ventas.\n",
    "\n",
    "En general, la recomendación sería que la empresa mantenga un enfoque en la comprensión y la satisfacción de las necesidades de sus clientes, así como en la eficiencia operativa, a medida que busca capitalizar en la tendencia positiva en las ventas."
   ]
  },
  {
   "cell_type": "markdown",
   "id": "28e61805-e1bc-4a01-9040-2cfe6d094ec1",
   "metadata": {},
   "source": [
    "- Efectuar nuevas consultas sql (desde **Azure Data Studio** o desde **SQL Server Managment Studio**).  Suponga que aún no le han informado del objetivo negocio, por lo tanto debe en primer lugar entender los datos que tiene. Explorar los datos que tienes en la misma base de datos **AdventureWorks2019** y ver que información relevante y de utilidad se puede extraer de allí. Guardar la(s) query(s) final(es) y luego pasarlo a `SQLALchemy` para obtener un dataframe final sobre el cual vas a realizar análisis descriptivos (con pandas) como los efectuados en el caso expuesto arriba. Los plots son opcionales. Elaborar conclusiones y recomendaciones sobre el potencial de tus resultados.   "
   ]
  },
  {
   "cell_type": "code",
   "execution_count": null,
   "id": "26d00183-6058-42c5-b9d0-a211349690a8",
   "metadata": {},
   "outputs": [],
   "source": []
  }
 ],
 "metadata": {
  "kernelspec": {
   "display_name": "Python 3 (ipykernel)",
   "language": "python",
   "name": "python3"
  },
  "language_info": {
   "codemirror_mode": {
    "name": "ipython",
    "version": 3
   },
   "file_extension": ".py",
   "mimetype": "text/x-python",
   "name": "python",
   "nbconvert_exporter": "python",
   "pygments_lexer": "ipython3",
   "version": "3.11.9"
  }
 },
 "nbformat": 4,
 "nbformat_minor": 5
}
