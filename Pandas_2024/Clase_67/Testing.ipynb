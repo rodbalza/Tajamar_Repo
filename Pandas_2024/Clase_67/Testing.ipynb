{
 "cells": [
  {
   "cell_type": "code",
   "execution_count": 1,
   "id": "b88e90fd-427b-4257-89b5-32066fde884b",
   "metadata": {},
   "outputs": [
    {
     "name": "stdout",
     "output_type": "stream",
     "text": [
      "Requirement already satisfied: SQLAlchemy in c:\\users\\cursostardes\\anaconda3\\envs\\pandas_2024\\lib\\site-packages (2.0.31)\n",
      "Requirement already satisfied: typing-extensions>=4.6.0 in c:\\users\\cursostardes\\appdata\\roaming\\python\\python311\\site-packages (from SQLAlchemy) (4.11.0)\n",
      "Requirement already satisfied: greenlet!=0.4.17 in c:\\users\\cursostardes\\anaconda3\\envs\\pandas_2024\\lib\\site-packages (from SQLAlchemy) (3.0.3)\n",
      "Note: you may need to restart the kernel to use updated packages.\n"
     ]
    }
   ],
   "source": [
    "pip install SQLAlchemy"
   ]
  },
  {
   "cell_type": "code",
   "execution_count": 1,
   "id": "e4890ae1-513e-4f8e-9a15-8d5b53261ac2",
   "metadata": {},
   "outputs": [
    {
     "name": "stdout",
     "output_type": "stream",
     "text": [
      "     año  mes        ventas\n",
      "0   2011    5  5.670209e+05\n",
      "1   2011    6  5.070965e+05\n",
      "2   2011    7  2.292183e+06\n",
      "3   2011    8  2.800576e+06\n",
      "4   2011    9  5.547916e+05\n",
      "5   2011   10  5.156270e+06\n",
      "6   2011   11  8.153130e+05\n",
      "7   2011   12  1.462449e+06\n",
      "8   2012    1  4.458337e+06\n",
      "9   2012    2  1.649052e+06\n",
      "10  2012    3  3.336347e+06\n",
      "11  2012    4  1.871924e+06\n",
      "12  2012    5  3.452924e+06\n",
      "13  2012    6  4.610647e+06\n",
      "14  2012    7  3.840231e+06\n",
      "15  2012    8  2.442451e+06\n",
      "16  2012    9  3.881724e+06\n",
      "17  2012   10  2.858060e+06\n",
      "18  2012   11  2.097153e+06\n",
      "19  2012   12  3.176848e+06\n",
      "20  2013    1  2.340062e+06\n",
      "21  2013    2  2.600219e+06\n",
      "22  2013    3  3.831606e+06\n",
      "23  2013    4  2.840711e+06\n",
      "24  2013    5  3.658085e+06\n",
      "25  2013    6  5.726265e+06\n",
      "26  2013    7  5.521841e+06\n",
      "27  2013    8  3.733973e+06\n",
      "28  2013    9  5.083505e+06\n",
      "29  2013   10  5.374376e+06\n",
      "30  2013   11  3.694668e+06\n",
      "31  2013   12  4.560577e+06\n",
      "32  2014    1  4.798028e+06\n",
      "33  2014    2  1.478213e+06\n",
      "34  2014    3  8.097036e+06\n",
      "35  2014    4  1.985886e+06\n",
      "36  2014    5  6.006183e+06\n",
      "37  2014    6  5.415148e+04\n"
     ]
    }
   ],
   "source": [
    "from sqlalchemy import create_engine\n",
    "import pandas as pd\n",
    "\n",
    "# Crear la cadena de conexión usando SQLAlchemy\n",
    "engine = create_engine('mssql+pyodbc://T05W25/AdventureWorks2019?driver=SQL+Server&trusted_connection=yes')\n",
    "\n",
    "# Definir la consulta SQL\n",
    "input_query = '''\n",
    "SELECT\n",
    "    YEAR(t1.OrderDate) AS 'año', \n",
    "    MONTH(t1.OrderDate) AS 'mes',\n",
    "    SUM(t1.TotalDue) AS 'ventas'\n",
    "FROM Sales.SalesOrderHeader AS t1\n",
    "GROUP BY YEAR(t1.OrderDate), MONTH(t1.OrderDate)\n",
    "ORDER BY YEAR(t1.OrderDate), MONTH(t1.OrderDate)\n",
    "'''\n",
    "\n",
    "# Ejecutar la consulta y leer los datos en un DataFrame\n",
    "ventas = pd.read_sql(input_query, engine)\n",
    "\n",
    "# Mostrar el DataFrame\n",
    "print(ventas)\n"
   ]
  },
  {
   "cell_type": "code",
   "execution_count": null,
   "id": "2e6855b5-a100-4afa-9e7e-e5d641319eed",
   "metadata": {},
   "outputs": [],
   "source": []
  }
 ],
 "metadata": {
  "kernelspec": {
   "display_name": "Python 3 (ipykernel)",
   "language": "python",
   "name": "python3"
  },
  "language_info": {
   "codemirror_mode": {
    "name": "ipython",
    "version": 3
   },
   "file_extension": ".py",
   "mimetype": "text/x-python",
   "name": "python",
   "nbconvert_exporter": "python",
   "pygments_lexer": "ipython3",
   "version": "3.11.9"
  }
 },
 "nbformat": 4,
 "nbformat_minor": 5
}
